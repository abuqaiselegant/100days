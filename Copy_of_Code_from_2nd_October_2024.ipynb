{
  "cells": [
    {
      "cell_type": "markdown",
      "metadata": {
        "id": "view-in-github",
        "colab_type": "text"
      },
      "source": [
        "<a href=\"https://colab.research.google.com/github/abuqaiselegant/100days/blob/main/Copy_of_Code_from_2nd_October_2024.ipynb\" target=\"_parent\"><img src=\"https://colab.research.google.com/assets/colab-badge.svg\" alt=\"Open In Colab\"/></a>"
      ]
    },
    {
      "cell_type": "markdown",
      "source": [
        "## Definitions and decisions 2\n",
        "\n",
        "In these examples we show how we can define new functions - that is, we create new words (verbs, doing-words) in our program, so that we can use these elsewhere. To do this we use the word *def* in the Python language (short for \"definition\")\n",
        "\n",
        "The examples are about instructing the computer to make decisions - to do this we use the words *if*, *elif* and *else*, with appropriate punctuation, to say how the decision is being made."
      ],
      "metadata": {
        "id": "sHSiG4SjuTLU"
      },
      "id": "sHSiG4SjuTLU"
    },
    {
      "cell_type": "markdown",
      "source": [
        "Showing how *return* can be used to link functions together."
      ],
      "metadata": {
        "id": "91UsulpUp12K"
      },
      "id": "91UsulpUp12K"
    },
    {
      "cell_type": "code",
      "source": [
        "from IPython.display import Image,display\n",
        "def displayImage(activity):\n",
        "  if activity==\"dance\":\n",
        "    i = Image(url=\"https://i.giphy.com/media/v1.Y2lkPTc5MGI3NjExOGxkcWhjbWtpZHUyMDNyN20yYTVnejY1enlrN2toOTdxZ2YwaXo4eCZlcD12MV9pbnRlcm5hbF9naWZfYnlfaWQmY3Q9Zw/HAtL7RA7pSE9BlAOjT/giphy.gif\")\n",
        "  if activity==\"talk\":\n",
        "    i = Image(url=\"https://i.giphy.com/media/v1.Y2lkPTc5MGI3NjExbDl1NWp3ZnR0aW91aHFldnhmN214a21vZnlmenM4NHEzaW9xaHhkNSZlcD12MV9pbnRlcm5hbF9naWZfYnlfaWQmY3Q9Zw/jVYYMJq0ROmUursiE4/giphy.gif\")\n",
        "  if activity==\"sleep\":\n",
        "    i = Image(url=\"https://i.giphy.com/media/v1.Y2lkPTc5MGI3NjExNHBvbTF3bGtudXgycHcxcXphZnFrbzBxZXVrczE5cWJwaHA0cW8wMyZlcD12MV9pbnRlcm5hbF9naWZfYnlfaWQmY3Q9Zw/PrTCHhXyn6ZtNF5nly/giphy.gif\")\n",
        "  display(i)"
      ],
      "metadata": {
        "id": "EzySzfcyn4YY"
      },
      "id": "EzySzfcyn4YY",
      "execution_count": 1,
      "outputs": []
    },
    {
      "cell_type": "code",
      "execution_count": 2,
      "id": "c54c58b7",
      "metadata": {
        "id": "c54c58b7"
      },
      "outputs": [],
      "source": [
        "def NPCDecision2(tiredness, sociability):\n",
        "    if tiredness<50 and sociability>30:\n",
        "        return \"dance\"\n",
        "    elif tiredness>=50 and sociability>20:\n",
        "        return \"talk\"\n",
        "    else:\n",
        "        return \"sleep\""
      ]
    },
    {
      "cell_type": "code",
      "source": [
        "NPCDecision2(30,50)"
      ],
      "metadata": {
        "colab": {
          "base_uri": "https://localhost:8080/",
          "height": 35
        },
        "id": "hePP8mc8mp1G",
        "outputId": "d634278b-1efb-4d5d-a576-feeb41c2020c"
      },
      "id": "hePP8mc8mp1G",
      "execution_count": null,
      "outputs": [
        {
          "output_type": "execute_result",
          "data": {
            "text/plain": [
              "'dance'"
            ],
            "application/vnd.google.colaboratory.intrinsic+json": {
              "type": "string"
            }
          },
          "metadata": {},
          "execution_count": 3
        }
      ]
    },
    {
      "cell_type": "markdown",
      "id": "85c95d27",
      "metadata": {
        "id": "85c95d27"
      },
      "source": [
        "Combination of things using \"not\": if you are over 18, and not banned, then you can enter"
      ]
    },
    {
      "cell_type": "code",
      "execution_count": 3,
      "id": "6c882ee0",
      "metadata": {
        "id": "6c882ee0"
      },
      "outputs": [],
      "source": [
        "def permittedToEnter(age,status):\n",
        "    if age>=18 and not status==\"banned\":\n",
        "        print(\"entry permitted\")"
      ]
    },
    {
      "cell_type": "code",
      "source": [
        "permittedToEnter(55,\" not bthanned\")"
      ],
      "metadata": {
        "colab": {
          "base_uri": "https://localhost:8080/"
        },
        "id": "v0BBM9LL0Xdj",
        "outputId": "3435b403-67bc-4d53-8c53-aa92c77900be"
      },
      "id": "v0BBM9LL0Xdj",
      "execution_count": 6,
      "outputs": [
        {
          "output_type": "stream",
          "name": "stdout",
          "text": [
            "entry permitted\n"
          ]
        }
      ]
    },
    {
      "cell_type": "markdown",
      "id": "53228e0e",
      "metadata": {
        "id": "53228e0e"
      },
      "source": [
        "Comparisons work on text strings too (alphabetical order)"
      ]
    },
    {
      "cell_type": "code",
      "execution_count": null,
      "id": "6c035465",
      "metadata": {
        "id": "6c035465"
      },
      "outputs": [],
      "source": [
        "def alphabeticalOrder(word1, word2):\n",
        "    if word1>word2:\n",
        "        print(word1+\" is later in the alphabet than \"+word2)\n",
        "    elif word1<word2:\n",
        "        print(word1+\" is earlier in the alphabet than \"+word2)\n",
        "    elif word1==word2:\n",
        "        print(word1+\" and \"+word2+\" are the same\")\n",
        "    else:\n",
        "        print(\"cannot compare\")"
      ]
    },
    {
      "cell_type": "markdown",
      "id": "cc976bb0",
      "metadata": {
        "id": "cc976bb0"
      },
      "source": [
        "We can put complex calculations in the condition - but, we probably don't want to:"
      ]
    },
    {
      "cell_type": "code",
      "execution_count": 7,
      "id": "6cbc344a",
      "metadata": {
        "id": "6cbc344a"
      },
      "outputs": [],
      "source": [
        "import math\n",
        "def NPCDecision3(playerX,playerY,NPCX,NPCY):\n",
        "    if math.sqrt( (playerX-NPCX)**2 + (playerY-NPCY)**2 )<20:\n",
        "        return(\"too close - run away\")"
      ]
    },
    {
      "cell_type": "code",
      "execution_count": null,
      "id": "5dd655a8",
      "metadata": {
        "id": "5dd655a8",
        "outputId": "faa46887-6abf-4154-8d38-76ee0dafb85d"
      },
      "outputs": [
        {
          "name": "stdout",
          "output_type": "stream",
          "text": [
            "None\n"
          ]
        }
      ],
      "source": [
        "print(NPCDecision2(0,0,20,10))"
      ]
    },
    {
      "cell_type": "markdown",
      "id": "eb27695d",
      "metadata": {
        "id": "eb27695d"
      },
      "source": [
        "We can \"nest\" one decision inside another. For example, you must be under 21 to be eligible to get a youth prize in the sports competition. If you win 10 or more games, you get a medal, otherwise you get a certificate."
      ]
    },
    {
      "cell_type": "code",
      "execution_count": 8,
      "id": "1051a226",
      "metadata": {
        "id": "1051a226"
      },
      "outputs": [],
      "source": [
        "def youthAward(age,numberOfGamesWon):\n",
        "    if age<21:\n",
        "        if numberOfGamesWon>=10:\n",
        "            return \"youth medal\"\n",
        "        else:\n",
        "            return \"youth certificate\"\n",
        "    else:\n",
        "        return \"not eligible for youth award\""
      ]
    },
    {
      "cell_type": "code",
      "execution_count": 9,
      "id": "4cbca529",
      "metadata": {
        "id": "4cbca529",
        "outputId": "f3003176-ac95-4bf5-903e-255393939dc7",
        "colab": {
          "base_uri": "https://localhost:8080/"
        }
      },
      "outputs": [
        {
          "output_type": "stream",
          "name": "stdout",
          "text": [
            "not eligible for youth award\n"
          ]
        }
      ],
      "source": [
        "print(youthAward(22,15))"
      ]
    },
    {
      "cell_type": "markdown",
      "source": [
        "## Interactive exercise: where are the errors?"
      ],
      "metadata": {
        "id": "HVwgUGW_sqQa"
      },
      "id": "HVwgUGW_sqQa"
    },
    {
      "cell_type": "markdown",
      "source": [
        "There are at least 10 errors in the code below - what are they?\n"
      ],
      "metadata": {
        "id": "p5np9pdJsp_1"
      },
      "id": "p5np9pdJsp_1"
    },
    {
      "cell_type": "code",
      "source": [
        "def calculateStudentGrade(listOfIndividualMarks):\n",
        "    averageMark = sum (listOfIndividualMarks) /len(listOfIndividualMarks)\n",
        "    print(averageMark)\n",
        "    grade = \"\"\n",
        "    if 0<=averageMark<50:\n",
        "      grade = 'fail'\n",
        "    if 50<=averageMark<=100:\n",
        "        grade = \"pass\"\n",
        "    return grade"
      ],
      "metadata": {
        "id": "j8QTmTqnsyBt"
      },
      "id": "j8QTmTqnsyBt",
      "execution_count": 14,
      "outputs": []
    },
    {
      "cell_type": "code",
      "source": [
        "calculateStudentGrade([75,45,68])"
      ],
      "metadata": {
        "colab": {
          "base_uri": "https://localhost:8080/",
          "height": 53
        },
        "id": "l7sPP96r2DRO",
        "outputId": "6b2d0497-35fc-4a94-b40e-f5250276304b"
      },
      "id": "l7sPP96r2DRO",
      "execution_count": 15,
      "outputs": [
        {
          "output_type": "stream",
          "name": "stdout",
          "text": [
            "62.666666666666664\n"
          ]
        },
        {
          "output_type": "execute_result",
          "data": {
            "text/plain": [
              "'pass'"
            ],
            "application/vnd.google.colaboratory.intrinsic+json": {
              "type": "string"
            }
          },
          "metadata": {},
          "execution_count": 15
        }
      ]
    },
    {
      "cell_type": "markdown",
      "source": [
        "1. *define* rather than *def*\n",
        "2. Ill defined behaviour at *50*\n",
        "3. *grade == \"pass\"* should be single *=*\n",
        "4. Doesn't say what to do with the grade: needs a *return* statement or similar\n",
        "5. *print(average Mark)* has a space in it\n",
        "6. *sum listOfIndividualMarks* has no parentheses\n",
        "7. Missing indentation after *grade = \"fail\"*\n",
        "8. Missing colon at end of *def* line\n",
        "9. Capitalised *If*\n",
        "10. *averageScore* not *averageMark*"
      ],
      "metadata": {
        "id": "K9W49Nhos4fU"
      },
      "id": "K9W49Nhos4fU"
    },
    {
      "cell_type": "markdown",
      "source": [
        "Ways to find errors:\n",
        "* the Jupyter system flags a problem when you start to run the code\n",
        "   * look at error message\n",
        "* the code stops running\n",
        "   * look at error message\n",
        "* the code produces the wrong outputs\n",
        "   * harder to track down - work backwards from error\n",
        "* careful reading of the code\n",
        "* someone else reading your code\n",
        "* writing a program to test your code\n"
      ],
      "metadata": {
        "id": "u0ro7FAvskcQ"
      },
      "id": "u0ro7FAvskcQ"
    },
    {
      "cell_type": "code",
      "source": [
        "#this is the correct version\n",
        "def calculateStudentGrade(listOfIndividualMarks):\n",
        "    averageMark = sum(listOfIndividualMarks)/len(listOfIndividualMarks)\n",
        "    print(averageMark)\n",
        "    grade = \"\"\n",
        "    if 0<=averageMark<50:\n",
        "        grade = \"fail\"\n",
        "    if 50<=averageMark<=100:\n",
        "        grade = \"pass\"\n",
        "    return grade"
      ],
      "metadata": {
        "id": "Pc9vYVCntRf8"
      },
      "id": "Pc9vYVCntRf8",
      "execution_count": null,
      "outputs": []
    },
    {
      "cell_type": "code",
      "source": [
        "calculateStudentGrade([50,56,57,78,45])"
      ],
      "metadata": {
        "colab": {
          "base_uri": "https://localhost:8080/",
          "height": 52
        },
        "id": "k7uYxhHWuQb6",
        "outputId": "1c6583af-d5e8-4503-c249-4d0ff9945450"
      },
      "id": "k7uYxhHWuQb6",
      "execution_count": null,
      "outputs": [
        {
          "output_type": "stream",
          "name": "stdout",
          "text": [
            "57.2\n"
          ]
        },
        {
          "output_type": "execute_result",
          "data": {
            "text/plain": [
              "'pass'"
            ],
            "application/vnd.google.colaboratory.intrinsic+json": {
              "type": "string"
            }
          },
          "metadata": {},
          "execution_count": 18
        }
      ]
    },
    {
      "cell_type": "markdown",
      "source": [
        "## Extended example"
      ],
      "metadata": {
        "id": "6yKI0eIRs9V9"
      },
      "id": "6yKI0eIRs9V9"
    },
    {
      "cell_type": "markdown",
      "source": [
        "More extended example, with first look at for loops and software testing"
      ],
      "metadata": {
        "id": "mcSr3JuKs86a"
      },
      "id": "mcSr3JuKs86a"
    },
    {
      "cell_type": "code",
      "source": [
        "# test cases\n",
        "testCases = []\n",
        "testCases.append([[\"Frodo Baggins\", [56,74,52,47,87,23,73,58,25]],\"pass\"])\n",
        "testCases.append([[\"Sam Gamgee\", [42,25,87,46,86,35,75,24]],\"pass\"])\n",
        "testCases.append([[\"Pippin Took\", [45,63,43,25,63,43,45,32]],\"fail\"])\n",
        "testCases.append([[\"Merry Brandybuck\", [12,76,23,56,85,35,65,78,65]],\"pass\"])\n",
        "\n",
        "def testGradeCalculation(studentRecord,expectedResult):\n",
        "  resultFromCalculation = calculateStudentGrade(studentRecord[1])\n",
        "  print(resultFromCalculation)\n",
        "  print(expectedResult)\n",
        "  if resultFromCalculation==expectedResult:\n",
        "    print(\"OK\")\n",
        "  else:\n",
        "    print(\"Not OK\")\n",
        "\n",
        "for test in testCases:\n",
        "  print(test)\n",
        "  testGradeCalculation(test[0],test[1])"
      ],
      "metadata": {
        "colab": {
          "base_uri": "https://localhost:8080/"
        },
        "id": "-SN__QvysozS",
        "outputId": "7d3bb6fa-043d-47bd-9461-8c20899e679a"
      },
      "id": "-SN__QvysozS",
      "execution_count": null,
      "outputs": [
        {
          "output_type": "stream",
          "name": "stdout",
          "text": [
            "[['Frodo Baggins', [56, 74, 52, 47, 87, 23, 73, 58, 25]], 'pass']\n",
            "55.0\n",
            "pass\n",
            "pass\n",
            "OK\n",
            "[['Sam Gamgee', [42, 25, 87, 46, 86, 35, 75, 24]], 'pass']\n",
            "52.5\n",
            "pass\n",
            "pass\n",
            "OK\n",
            "[['Pippin Took', [45, 63, 43, 25, 63, 43, 45, 32]], 'fail']\n",
            "44.875\n",
            "fail\n",
            "fail\n",
            "OK\n",
            "[['Merry Brandybuck', [12, 76, 23, 56, 85, 35, 65, 78, 65]], 'pass']\n",
            "55.0\n",
            "pass\n",
            "pass\n",
            "OK\n"
          ]
        }
      ]
    },
    {
      "cell_type": "code",
      "source": [],
      "metadata": {
        "id": "6FLWCJNzuWxS"
      },
      "id": "6FLWCJNzuWxS",
      "execution_count": null,
      "outputs": []
    }
  ],
  "metadata": {
    "kernelspec": {
      "display_name": "Python 3",
      "language": "python",
      "name": "python3"
    },
    "language_info": {
      "codemirror_mode": {
        "name": "ipython",
        "version": 3
      },
      "file_extension": ".py",
      "mimetype": "text/x-python",
      "name": "python",
      "nbconvert_exporter": "python",
      "pygments_lexer": "ipython3",
      "version": "3.9.9"
    },
    "colab": {
      "provenance": [],
      "include_colab_link": true
    }
  },
  "nbformat": 4,
  "nbformat_minor": 5
}