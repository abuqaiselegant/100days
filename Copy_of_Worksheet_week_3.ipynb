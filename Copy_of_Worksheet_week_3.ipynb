{
  "cells": [
    {
      "cell_type": "markdown",
      "metadata": {
        "id": "view-in-github",
        "colab_type": "text"
      },
      "source": [
        "<a href=\"https://colab.research.google.com/github/abuqaiselegant/100days/blob/main/Copy_of_Worksheet_week_3.ipynb\" target=\"_parent\"><img src=\"https://colab.research.google.com/assets/colab-badge.svg\" alt=\"Open In Colab\"/></a>"
      ]
    },
    {
      "cell_type": "markdown",
      "id": "3567f6ba",
      "metadata": {
        "id": "3567f6ba"
      },
      "source": [
        "# Lab 3\n",
        "\n",
        "These use similar ideas to the lecture last Thursday, so you should have a look at that on Moodle for ideas and inspiration."
      ]
    },
    {
      "cell_type": "markdown",
      "id": "01603b6e",
      "metadata": {
        "id": "01603b6e"
      },
      "source": [
        "## Simple while loops"
      ]
    },
    {
      "cell_type": "markdown",
      "source": [
        "**Task 1.** The following code repeats the input until the correct word is guessed"
      ],
      "metadata": {
        "id": "ORQrxeJ8uGPw"
      },
      "id": "ORQrxeJ8uGPw"
    },
    {
      "cell_type": "code",
      "source": [
        "guessed = \"\"\n",
        "while guessed!=\"yellow\":\n",
        "    guessed = input(\"Guess the colour I am thinking of: \")\n",
        "print(\"Congratulations!\")"
      ],
      "metadata": {
        "colab": {
          "base_uri": "https://localhost:8080/"
        },
        "id": "i1gs2raxuMQI",
        "outputId": "b8b2aeab-0cc3-435a-baaa-193f7068d511"
      },
      "id": "i1gs2raxuMQI",
      "execution_count": 2,
      "outputs": [
        {
          "output_type": "stream",
          "name": "stdout",
          "text": [
            "Guess the colour I am thinking of: yellow\n",
            "Congratulations!\n"
          ]
        }
      ]
    },
    {
      "cell_type": "markdown",
      "source": [
        "Modify the code so that the colour to be guessed is \"green\""
      ],
      "metadata": {
        "id": "LSTjyq3-uMFA"
      },
      "id": "LSTjyq3-uMFA"
    },
    {
      "cell_type": "code",
      "source": [
        "#write your code here\n",
        "guessed = \"\"\n",
        "while guessed!=\"green\":\n",
        "    guessed = input(\"Guess the colour I am thinking of: \")\n",
        "print(\"Congratulations!\")"
      ],
      "metadata": {
        "id": "6XmpPQa7uLtM",
        "colab": {
          "base_uri": "https://localhost:8080/"
        },
        "outputId": "ceb1a0d8-785f-4d42-cfab-afa037c306b7"
      },
      "id": "6XmpPQa7uLtM",
      "execution_count": 2,
      "outputs": [
        {
          "output_type": "stream",
          "name": "stdout",
          "text": [
            "Guess the colour I am thinking of: green\n",
            "Congratulations!\n"
          ]
        }
      ]
    },
    {
      "cell_type": "markdown",
      "source": [
        "**Task 2.** The following block uses a *while* loop to keep rolling a die until the number is equal to a six"
      ],
      "metadata": {
        "id": "VvkcP_oxps2d"
      },
      "id": "VvkcP_oxps2d"
    },
    {
      "cell_type": "code",
      "source": [
        "import random\n",
        "from time import sleep\n",
        "def rollDice():\n",
        "    numberRolled = 0\n",
        "    while numberRolled!=6:\n",
        "        print(\"rolling dice\")\n",
        "        sleep(1)\n",
        "        numberRolled = random.randint(1,6)\n",
        "        print(\"number rolled \"+str(numberRolled))\n",
        "    print(\"six rolled\")\n"
      ],
      "metadata": {
        "id": "gSiUh0HWp3kq"
      },
      "id": "gSiUh0HWp3kq",
      "execution_count": 3,
      "outputs": []
    },
    {
      "cell_type": "code",
      "source": [
        "rollDice()"
      ],
      "metadata": {
        "colab": {
          "base_uri": "https://localhost:8080/"
        },
        "id": "Ym0RCy6VqdqF",
        "outputId": "ee88b4e3-8e0b-440e-a156-3d67950f64f3"
      },
      "id": "Ym0RCy6VqdqF",
      "execution_count": 4,
      "outputs": [
        {
          "output_type": "stream",
          "name": "stdout",
          "text": [
            "rolling dice\n",
            "number rolled 1\n",
            "rolling dice\n",
            "number rolled 1\n",
            "rolling dice\n",
            "number rolled 5\n",
            "rolling dice\n",
            "number rolled 1\n",
            "rolling dice\n",
            "number rolled 5\n",
            "rolling dice\n",
            "number rolled 6\n",
            "six rolled\n"
          ]
        }
      ]
    },
    {
      "cell_type": "markdown",
      "source": [
        "In the next block, make a copy of the *rollDice* function, and change it so that two dice are rolled, and it continues to roll them until the total on the two dice is greater than or equal to 9."
      ],
      "metadata": {
        "id": "I79L5663q0Zk"
      },
      "id": "I79L5663q0Zk"
    },
    {
      "cell_type": "code",
      "source": [
        "# write your code here\n",
        "import random\n",
        "from time import sleep\n",
        "def rollDice():\n",
        "    numberRolled1 = 0\n",
        "    numberRolled2 = 0\n",
        "    sum = 0\n",
        "    while sum<=9:\n",
        "        print(\"rolling dice\")\n",
        "        sleep(1)\n",
        "        numberRolled1 = random.randint(1,6)\n",
        "        numberRolled2 = random.randint(1,6)\n",
        "        print(\"numbers rolled are \"+str(numberRolled1)+\" ,\"+str(numberRolled2))\n",
        "        sum = numberRolled2+numberRolled1\n",
        "    print(\"rolled numbers are greater than or equla to 9\")"
      ],
      "metadata": {
        "id": "L638s6fDqHNl"
      },
      "id": "L638s6fDqHNl",
      "execution_count": 4,
      "outputs": []
    },
    {
      "cell_type": "code",
      "source": [
        "rollDice()"
      ],
      "metadata": {
        "colab": {
          "base_uri": "https://localhost:8080/"
        },
        "id": "eqqYnA2SrN3i",
        "outputId": "2738a95e-5236-4d74-f959-c33b39425a7c"
      },
      "id": "eqqYnA2SrN3i",
      "execution_count": 5,
      "outputs": [
        {
          "output_type": "stream",
          "name": "stdout",
          "text": [
            "rolling dice\n",
            "numbers rolled are 4 ,1\n",
            "rolling dice\n",
            "numbers rolled are 3 ,2\n",
            "rolling dice\n",
            "numbers rolled are 3 ,6\n",
            "rolling dice\n",
            "numbers rolled are 4 ,6\n",
            "rolled numbers are greater than or equla to 9\n"
          ]
        }
      ]
    },
    {
      "cell_type": "markdown",
      "id": "4f989d7f",
      "metadata": {
        "id": "4f989d7f"
      },
      "source": [
        "**Task 3.** In the next block, write code that generates a number at random between 1-20, adds it to a list, prints out that list, and carries on adding numbers as long as the sum of the list is less than or equal to 100. This should take around five lines of code."
      ]
    },
    {
      "cell_type": "code",
      "execution_count": 20,
      "id": "545a3d3e",
      "metadata": {
        "id": "545a3d3e",
        "colab": {
          "base_uri": "https://localhost:8080/",
          "height": 1000
        },
        "outputId": "5e77b162-e87c-4c96-c5b2-6b52619fdb6a"
      },
      "outputs": [
        {
          "output_type": "stream",
          "name": "stdout",
          "text": [
            "[16]\n",
            "16\n",
            "[16, 3]\n",
            "19\n",
            "[16, 3, 8]\n",
            "27\n",
            "[16, 3, 8, 5]\n",
            "32\n",
            "[16, 3, 8, 5, 1]\n",
            "33\n",
            "[16, 3, 8, 5, 1, 10]\n",
            "43\n",
            "[16, 3, 8, 5, 1, 10, 12]\n",
            "55\n",
            "[16, 3, 8, 5, 1, 10, 12, 19]\n",
            "74\n",
            "[16, 3, 8, 5, 1, 10, 12, 19, 8]\n",
            "82\n",
            "[16, 3, 8, 5, 1, 10, 12, 19, 8, 12]\n",
            "94\n",
            "\n",
            "[4]\n",
            "4\n",
            "[4, 5]\n",
            "9\n",
            "[4, 5, 20]\n",
            "29\n",
            "[4, 5, 20, 6]\n",
            "35\n",
            "[4, 5, 20, 6, 20]\n",
            "55\n",
            "[4, 5, 20, 6, 20, 16]\n",
            "71\n",
            "[4, 5, 20, 6, 20, 16, 12]\n",
            "83\n",
            "[4, 5, 20, 6, 20, 16, 12, 11]\n",
            "94\n",
            "[4, 5, 20, 6, 20, 16, 12, 11, 1]\n",
            "95\n",
            "[4, 5, 20, 6, 20, 16, 12, 11, 1, 3]\n",
            "98\n",
            "[4, 5, 20, 6, 20, 16, 12, 11, 1, 3, 1]\n",
            "99\n",
            "[4, 5, 20, 6, 20, 16, 12, 11, 1, 3, 1, 1]\n",
            "100\n"
          ]
        },
        {
          "output_type": "error",
          "ename": "KeyboardInterrupt",
          "evalue": "",
          "traceback": [
            "\u001b[0;31m---------------------------------------------------------------------------\u001b[0m",
            "\u001b[0;31mKeyboardInterrupt\u001b[0m                         Traceback (most recent call last)",
            "\u001b[0;32m<ipython-input-20-062ab58eb376>\u001b[0m in \u001b[0;36m<cell line: 20>\u001b[0;34m()\u001b[0m\n\u001b[1;32m     19\u001b[0m \u001b[0mtotal\u001b[0m \u001b[0;34m=\u001b[0m \u001b[0;36m0\u001b[0m\u001b[0;34m\u001b[0m\u001b[0;34m\u001b[0m\u001b[0m\n\u001b[1;32m     20\u001b[0m \u001b[0;32mwhile\u001b[0m \u001b[0mtotal\u001b[0m\u001b[0;34m<=\u001b[0m\u001b[0;36m100\u001b[0m\u001b[0;34m:\u001b[0m\u001b[0;34m\u001b[0m\u001b[0;34m\u001b[0m\u001b[0m\n\u001b[0;32m---> 21\u001b[0;31m   \u001b[0mnum\u001b[0m \u001b[0;34m=\u001b[0m \u001b[0mrandom\u001b[0m\u001b[0;34m.\u001b[0m\u001b[0mrandint\u001b[0m\u001b[0;34m(\u001b[0m\u001b[0;36m1\u001b[0m\u001b[0;34m,\u001b[0m\u001b[0;36m20\u001b[0m\u001b[0;34m)\u001b[0m\u001b[0;34m\u001b[0m\u001b[0;34m\u001b[0m\u001b[0m\n\u001b[0m\u001b[1;32m     22\u001b[0m   \u001b[0;32mif\u001b[0m \u001b[0mtotal\u001b[0m\u001b[0;34m+\u001b[0m\u001b[0mnum\u001b[0m\u001b[0;34m<=\u001b[0m\u001b[0;36m100\u001b[0m\u001b[0;34m:\u001b[0m\u001b[0;34m\u001b[0m\u001b[0;34m\u001b[0m\u001b[0m\n\u001b[1;32m     23\u001b[0m     \u001b[0ma\u001b[0m\u001b[0;34m.\u001b[0m\u001b[0mappend\u001b[0m\u001b[0;34m(\u001b[0m\u001b[0mnum\u001b[0m\u001b[0;34m)\u001b[0m\u001b[0;34m\u001b[0m\u001b[0;34m\u001b[0m\u001b[0m\n",
            "\u001b[0;32m/usr/lib/python3.10/random.py\u001b[0m in \u001b[0;36mrandint\u001b[0;34m(self, a, b)\u001b[0m\n\u001b[1;32m    368\u001b[0m         \"\"\"\n\u001b[1;32m    369\u001b[0m \u001b[0;34m\u001b[0m\u001b[0m\n\u001b[0;32m--> 370\u001b[0;31m         \u001b[0;32mreturn\u001b[0m \u001b[0mself\u001b[0m\u001b[0;34m.\u001b[0m\u001b[0mrandrange\u001b[0m\u001b[0;34m(\u001b[0m\u001b[0ma\u001b[0m\u001b[0;34m,\u001b[0m \u001b[0mb\u001b[0m\u001b[0;34m+\u001b[0m\u001b[0;36m1\u001b[0m\u001b[0;34m)\u001b[0m\u001b[0;34m\u001b[0m\u001b[0;34m\u001b[0m\u001b[0m\n\u001b[0m\u001b[1;32m    371\u001b[0m \u001b[0;34m\u001b[0m\u001b[0m\n\u001b[1;32m    372\u001b[0m \u001b[0;34m\u001b[0m\u001b[0m\n",
            "\u001b[0;32m/usr/lib/python3.10/random.py\u001b[0m in \u001b[0;36mrandrange\u001b[0;34m(self, start, stop, step)\u001b[0m\n\u001b[1;32m    301\u001b[0m         \u001b[0;31m# common case while still doing adequate error checking.\u001b[0m\u001b[0;34m\u001b[0m\u001b[0;34m\u001b[0m\u001b[0m\n\u001b[1;32m    302\u001b[0m         \u001b[0;32mtry\u001b[0m\u001b[0;34m:\u001b[0m\u001b[0;34m\u001b[0m\u001b[0;34m\u001b[0m\u001b[0m\n\u001b[0;32m--> 303\u001b[0;31m             \u001b[0mistart\u001b[0m \u001b[0;34m=\u001b[0m \u001b[0m_index\u001b[0m\u001b[0;34m(\u001b[0m\u001b[0mstart\u001b[0m\u001b[0;34m)\u001b[0m\u001b[0;34m\u001b[0m\u001b[0;34m\u001b[0m\u001b[0m\n\u001b[0m\u001b[1;32m    304\u001b[0m         \u001b[0;32mexcept\u001b[0m \u001b[0mTypeError\u001b[0m\u001b[0;34m:\u001b[0m\u001b[0;34m\u001b[0m\u001b[0;34m\u001b[0m\u001b[0m\n\u001b[1;32m    305\u001b[0m             \u001b[0mistart\u001b[0m \u001b[0;34m=\u001b[0m \u001b[0mint\u001b[0m\u001b[0;34m(\u001b[0m\u001b[0mstart\u001b[0m\u001b[0;34m)\u001b[0m\u001b[0;34m\u001b[0m\u001b[0;34m\u001b[0m\u001b[0m\n",
            "\u001b[0;31mKeyboardInterrupt\u001b[0m: "
          ]
        }
      ],
      "source": [
        "# write your code here\n",
        "\n",
        "\n",
        "\n",
        "a=[]\n",
        "total = 0\n",
        "while total<=100:\n",
        "  num = random.randint(1,20)\n",
        "  total = sum(a)+num\n",
        "  if total<=100:\n",
        "    a.append(num)\n",
        "    print(a)\n",
        "    print(total)\n",
        "\n",
        "\n",
        "print()\n",
        "##this alternate version still running...\n",
        "a=[]\n",
        "total = 0\n",
        "while total<=100:\n",
        "  num = random.randint(1,20)\n",
        "  if total+num<=100:\n",
        "    a.append(num)\n",
        "    print(a)\n",
        "    total+=num\n",
        "    print(total)"
      ]
    },
    {
      "cell_type": "markdown",
      "id": "0c0b85b9",
      "metadata": {
        "id": "0c0b85b9"
      },
      "source": [
        "## Cumulative Sum"
      ]
    },
    {
      "cell_type": "markdown",
      "id": "1bc5f808",
      "metadata": {
        "id": "1bc5f808"
      },
      "source": [
        "Here is some code that adds together a list of numbers, inputted one-by-one by the user:"
      ]
    },
    {
      "cell_type": "code",
      "execution_count": 21,
      "id": "fcfc6469",
      "metadata": {
        "id": "fcfc6469"
      },
      "outputs": [],
      "source": [
        "def cumulativeSum():\n",
        "    carryOn = True\n",
        "    total = 0\n",
        "    while carryOn:\n",
        "        number = int(input(\"Number:\" ))\n",
        "        total += number\n",
        "        print(\"current total is \",total)\n",
        "        more = input(\"Any more? \")\n",
        "        if more==\"yes\":\n",
        "            carryOn = True\n",
        "        else:\n",
        "            carryOn = False\n",
        "    print(\"Final total is \",total)"
      ]
    },
    {
      "cell_type": "code",
      "execution_count": 22,
      "id": "f499a987",
      "metadata": {
        "id": "f499a987",
        "colab": {
          "base_uri": "https://localhost:8080/"
        },
        "outputId": "8db15985-a487-4062-f752-e505150e8d06"
      },
      "outputs": [
        {
          "output_type": "stream",
          "name": "stdout",
          "text": [
            "Number:67\n",
            "current total is  67\n",
            "Any more? yes\n",
            "Number:78\n",
            "current total is  145\n",
            "Any more? yes\n",
            "Number:98\n",
            "current total is  243\n",
            "Any more? no\n",
            "Final total is  243\n"
          ]
        }
      ],
      "source": [
        "cumulativeSum()"
      ]
    },
    {
      "cell_type": "markdown",
      "id": "92b2f4a3",
      "metadata": {
        "id": "92b2f4a3"
      },
      "source": [
        "In the next block, make a copy of the *cumulativeSum()* function and modify it so that it calculates the average each time a new number is entered. That is, you will need to keep track of the amount of numbers entered so far, and then divide the total by that number in the *print* statement."
      ]
    },
    {
      "cell_type": "code",
      "execution_count": 33,
      "id": "2edf3daf",
      "metadata": {
        "id": "2edf3daf"
      },
      "outputs": [],
      "source": [
        "# make your copy of the function here and modify it\n",
        "def cumulativeSum():\n",
        "    carryOn = True\n",
        "    total = 0\n",
        "    count =0\n",
        "    while carryOn:\n",
        "        number = int(input(\"Number:\" ))\n",
        "        total += number\n",
        "        count +=1\n",
        "        average = total/count\n",
        "        print(\"current total is \",total)\n",
        "        print(\"current avg is \",average)\n",
        "        more = input(\"Any more? \")\n",
        "        if more==\"yes\":\n",
        "            carryOn = True\n",
        "        else:\n",
        "            carryOn = False\n",
        "    print(f\"Final total and avg are {total} , {average}\")"
      ]
    },
    {
      "cell_type": "code",
      "execution_count": 34,
      "id": "580e277c",
      "metadata": {
        "id": "580e277c",
        "colab": {
          "base_uri": "https://localhost:8080/"
        },
        "outputId": "e09fa4c6-7898-4d41-b965-cecf8156b927"
      },
      "outputs": [
        {
          "output_type": "stream",
          "name": "stdout",
          "text": [
            "Number:10\n",
            "current total is  10\n",
            "current avg is  10.0\n",
            "Any more? yes\n",
            "Number:20\n",
            "current total is  30\n",
            "current avg is  15.0\n",
            "Any more? no\n",
            "Final total and avg are 30 , 15.0\n"
          ]
        }
      ],
      "source": [
        "# test your code here\n",
        "cumulativeSum()"
      ]
    },
    {
      "cell_type": "markdown",
      "id": "06287400",
      "metadata": {
        "id": "06287400"
      },
      "source": [
        "## Interactive Card Game"
      ]
    },
    {
      "cell_type": "markdown",
      "id": "83e0865f",
      "metadata": {
        "id": "83e0865f"
      },
      "source": [
        "In the next block, write code to play the following card game:\n",
        "* the player has a (non-fixed) number of turns (so you will use a while loop to repeat the turn)\n",
        "* on each turn, the player can type \"yes\" to draw another card, and \"no\" to stop\n",
        "* the cards are numbered between 1-13, and are selected at random (assume that there is an endless stack of cards, so you don't have to model cards \"running out\"; there are no other features (suits, colours) of relevance)\n",
        "* if the total of the cards so far is over 21, then the player loses: print \"lose\" and end the game\n",
        "* if the total of the cards so far is under 21, then display the current total, and give the player another turn during which they can choose to play on or not\n",
        "* if the total of the cards is 21, print \"super winner\" and end the game\n",
        "* if the player chooses to draw no more cards, and they have a total of less than or equal to 15, print \"lose\" and end the game\"\n",
        "* if the player chooses to draw no more cards, and they have a total between 16-20, print \"winner\" and end the game\n",
        "This should take around 23 lines of code. Note that there are some similarities between this task and the *cumulativeSum()* function above."
      ]
    },
    {
      "cell_type": "code",
      "execution_count": 42,
      "id": "db93c71a",
      "metadata": {
        "id": "db93c71a"
      },
      "outputs": [],
      "source": [
        "# write your function here\n",
        "def game():\n",
        "  total = 0\n",
        "  draw = True\n",
        "  while draw:\n",
        "    cardNum = random.randint(1,13)\n",
        "    total +=cardNum\n",
        "    if total>21:\n",
        "      print(\"lose\")\n",
        "      break\n",
        "    if total == 21:\n",
        "      print(\"supper winner\")\n",
        "    print(\"current total is\",total)\n",
        "    drawChoice = input(\"want to draw \")\n",
        "    if drawChoice == \"yes\":\n",
        "      draw = True\n",
        "    else:\n",
        "      draw = False\n",
        "      if total <=15:\n",
        "        print(\"lose\")\n",
        "      if 16<=total <=20:\n",
        "        print(\"winner\")\n"
      ]
    },
    {
      "cell_type": "code",
      "execution_count": 43,
      "id": "db11d02e",
      "metadata": {
        "id": "db11d02e",
        "colab": {
          "base_uri": "https://localhost:8080/"
        },
        "outputId": "2a8bc0bb-3fba-4d95-eea0-41ec74b87168"
      },
      "outputs": [
        {
          "output_type": "stream",
          "name": "stdout",
          "text": [
            "current total is 5\n",
            "want to draw yes\n",
            "current total is 16\n",
            "want to draw no\n",
            "winner\n"
          ]
        }
      ],
      "source": [
        "# test your function here\n",
        "game()"
      ]
    },
    {
      "cell_type": "markdown",
      "source": [
        "# Lab 3 Part 2: An Additional Exercise\n"
      ],
      "metadata": {
        "id": "SUQkm06t_UNj"
      },
      "id": "SUQkm06t_UNj"
    },
    {
      "cell_type": "markdown",
      "id": "e9e50e58",
      "metadata": {
        "id": "e9e50e58"
      },
      "source": [
        "## A Dice Game"
      ]
    },
    {
      "cell_type": "markdown",
      "id": "3a4000ed",
      "metadata": {
        "id": "3a4000ed"
      },
      "source": [
        "In the next block, write code for the following dice game:\n",
        "* the player rolls a pair of dice\n",
        "* if the total of the two dice is 2,3 or 12, they lose instantly\n",
        "* if the total of the two dice is 7 or 11, they win instantly\n",
        "* otherwise, store the total (it will be 4,5,6,8,9 or 10) in a variable called \"target\"\n",
        "* now continue to roll pairs of dice:\n",
        "    * if the total is 7, the player loses\n",
        "    * if the player rolls their target, the player wins\n",
        "    * otherwise, roll again\n",
        "    \n",
        "Note that this is not interactive: the player rolls until they either win or lose.\n",
        "\n",
        "This should take about 20 lines of code"
      ]
    },
    {
      "cell_type": "code",
      "execution_count": 55,
      "id": "f7f5ac98",
      "metadata": {
        "id": "f7f5ac98"
      },
      "outputs": [],
      "source": [
        "# write your function here\n",
        "\n",
        "def dice():\n",
        "  Game = True\n",
        "  count = 0\n",
        "  while Game:\n",
        "    R1 = random.randint(1,6)\n",
        "    R2 = random.randint(1,6)\n",
        "    count +=1\n",
        "    total = R1+R2\n",
        "    print(R1, R2)\n",
        "    if count ==1:\n",
        "      if total in [2,3,12]:\n",
        "        print(\"lose\")\n",
        "        Game = False\n",
        "      elif total in [7,11]:\n",
        "        print(\"winner\")\n",
        "        Game = False\n",
        "      else:\n",
        "        target = total\n",
        "        print(\"target is now \",target)\n",
        "    else:\n",
        "      if total == 7:\n",
        "        print(\"loses\")\n",
        "        Game = False\n",
        "      elif total == target:\n",
        "        print(\"winner\")\n",
        "        Game = False\n",
        "\n",
        "\n"
      ]
    },
    {
      "cell_type": "code",
      "execution_count": 56,
      "id": "3cf7209e",
      "metadata": {
        "id": "3cf7209e",
        "colab": {
          "base_uri": "https://localhost:8080/"
        },
        "outputId": "31a624b8-0afa-4ddc-d635-7897247d0b19"
      },
      "outputs": [
        {
          "output_type": "stream",
          "name": "stdout",
          "text": [
            "1 3\n",
            "target is now  4\n",
            "4 3\n",
            "loses\n"
          ]
        }
      ],
      "source": [
        "# test your function here\n",
        "dice()"
      ]
    },
    {
      "cell_type": "markdown",
      "id": "91ea7f44",
      "metadata": {
        "id": "91ea7f44"
      },
      "source": [
        "**Extension:** here is an extension exercise. I am not expecting most students to complete this.\n",
        "* Write code that runs the dice game 1000 times. The player gets a point each time they win, their opponent gets a point each time they lose. Count the total points. Is the game, on average, worth playing?"
      ]
    },
    {
      "cell_type": "code",
      "execution_count": null,
      "id": "4e2407b0",
      "metadata": {
        "id": "4e2407b0"
      },
      "outputs": [],
      "source": [
        "# write your extension here"
      ]
    },
    {
      "cell_type": "markdown",
      "source": [
        "# Lab 3 Part 3: some miscellaneous exercises"
      ],
      "metadata": {
        "id": "lQ3JLeMIrbAf"
      },
      "id": "lQ3JLeMIrbAf"
    },
    {
      "cell_type": "markdown",
      "source": [
        "**Task 1.** The method upper() takes a text string and converts into capital letters, for example:"
      ],
      "metadata": {
        "id": "va_NXWVnreZF"
      },
      "id": "va_NXWVnreZF"
    },
    {
      "cell_type": "code",
      "source": [
        "print(\"hello\".upper())"
      ],
      "metadata": {
        "id": "ZaYRK7-trdqH"
      },
      "id": "ZaYRK7-trdqH",
      "execution_count": null,
      "outputs": []
    },
    {
      "cell_type": "markdown",
      "source": [
        "The method split() takes a text string and splits it into individual words."
      ],
      "metadata": {
        "id": "Z4Js91iNrjHk"
      },
      "id": "Z4Js91iNrjHk"
    },
    {
      "cell_type": "markdown",
      "source": [
        "print(\"This is a sentence\".split())"
      ],
      "metadata": {
        "id": "-Dtb0ZaCrm2n"
      },
      "id": "-Dtb0ZaCrm2n"
    },
    {
      "cell_type": "markdown",
      "source": [
        "In the next block, write a function *annoyed()* that takes a text string, breaks it down into individual words, puts each word into capitals, and then puts an exclamation mark after each, returning a string with everything joined together. So, for example, \"I am very annoyed\" becomes: \"I! AM! VERY! ANNOYED!\""
      ],
      "metadata": {
        "id": "MpQKEBRLrqWl"
      },
      "id": "MpQKEBRLrqWl"
    },
    {
      "cell_type": "code",
      "source": [
        "#write your code here"
      ],
      "metadata": {
        "id": "xUFZ5rk1rtEI"
      },
      "id": "xUFZ5rk1rtEI",
      "execution_count": null,
      "outputs": []
    },
    {
      "cell_type": "markdown",
      "source": [
        "In the next block, informally test your code by running it a few times"
      ],
      "metadata": {
        "id": "W906yyOwr2Wi"
      },
      "id": "W906yyOwr2Wi"
    },
    {
      "cell_type": "code",
      "source": [
        "#informally test your code here by running it a few times"
      ],
      "metadata": {
        "id": "RNwZfSKZr10p"
      },
      "id": "RNwZfSKZr10p",
      "execution_count": null,
      "outputs": []
    },
    {
      "cell_type": "markdown",
      "source": [
        "**Task 2.** Here is a list of lucky words:"
      ],
      "metadata": {
        "id": "5iN8TLG3sArQ"
      },
      "id": "5iN8TLG3sArQ"
    },
    {
      "cell_type": "code",
      "source": [
        "luckyWords = [\"happy\", \"good\", \"joy\", \"smile\", \"laugh\", \"lucky\", \"winner\"]"
      ],
      "metadata": {
        "id": "iwfMz2xorwE4"
      },
      "id": "iwfMz2xorwE4",
      "execution_count": null,
      "outputs": []
    },
    {
      "cell_type": "markdown",
      "source": [
        "In the next block, write a function *lucky* that selects two words from that set of words, asks the user to type a sentence (without showing them the words), and prints \"very lucky\" if the sentence that they have written contains both of those words, \"lucky\" if one and only one of the words is in the sentence, or \"unlucky\" if none of the words are in the sentence."
      ],
      "metadata": {
        "id": "geQmRmacsENw"
      },
      "id": "geQmRmacsENw"
    },
    {
      "cell_type": "code",
      "source": [
        "# write your code here"
      ],
      "metadata": {
        "id": "hA4HSMFosTtb"
      },
      "id": "hA4HSMFosTtb",
      "execution_count": null,
      "outputs": []
    },
    {
      "cell_type": "markdown",
      "source": [
        "In the next block, informally test your code by running it a few times"
      ],
      "metadata": {
        "id": "_UZzW5ZRrv0T"
      },
      "id": "_UZzW5ZRrv0T"
    },
    {
      "cell_type": "code",
      "source": [
        "#informally test your code here by running it a few times"
      ],
      "metadata": {
        "id": "LgiDCXzOsWxZ"
      },
      "id": "LgiDCXzOsWxZ",
      "execution_count": null,
      "outputs": []
    },
    {
      "cell_type": "markdown",
      "source": [
        "**Extension.** Find out how to remove punctuation from text, and include this in your code, so that if the user types, for example, \"I feel happy, lucky and full of joy\" and one of the lucky words is \"happy\", then the user will not fail because \"happy,\" doesn't match the word \"happy\". Only do this extension if you have found the earlier material very easy, otherwise move on to the next exercise."
      ],
      "metadata": {
        "id": "BbTr-E-isZ9E"
      },
      "id": "BbTr-E-isZ9E"
    },
    {
      "cell_type": "code",
      "source": [
        "#write your extension here"
      ],
      "metadata": {
        "id": "sAEoNiTxscIt"
      },
      "id": "sAEoNiTxscIt",
      "execution_count": null,
      "outputs": []
    },
    {
      "cell_type": "code",
      "source": [
        "#informally test your extension here"
      ],
      "metadata": {
        "id": "rwIKIi3asfTt"
      },
      "id": "rwIKIi3asfTt",
      "execution_count": null,
      "outputs": []
    },
    {
      "cell_type": "code",
      "source": [],
      "metadata": {
        "id": "fRFye92RskJH"
      },
      "id": "fRFye92RskJH",
      "execution_count": null,
      "outputs": []
    },
    {
      "cell_type": "markdown",
      "metadata": {
        "id": "46e89711"
      },
      "source": [
        "**Task 3.** In the next block, write a function *countdown()* that implements a timer. The user inputs a number between 1-20, which is the number of seconds of countdown. The code prints the word \"start\", then waits that number of seconds, then prints the word \"stop\". You must use the function *time.time()* from the *time* module, which returns the number of seconds since an arbitrary point in the past (1st January 1970). You should use a loop to check whether the correct number of seconds has passed.\n",
        "\n",
        "Do not use the *sleep()* function to do this - that is the simplest way to do this, but the point of this exercises is to learn how a function like *sleep()* is implemented."
      ],
      "id": "46e89711"
    },
    {
      "cell_type": "code",
      "execution_count": null,
      "metadata": {
        "id": "6a517f86"
      },
      "outputs": [],
      "source": [
        "#write your code here"
      ],
      "id": "6a517f86"
    },
    {
      "cell_type": "markdown",
      "metadata": {
        "id": "f9934b4f"
      },
      "source": [
        "In the next block, informally test your code by running it a few times"
      ],
      "id": "f9934b4f"
    },
    {
      "cell_type": "code",
      "execution_count": null,
      "metadata": {
        "id": "25053d23"
      },
      "outputs": [],
      "source": [
        "#informally test your code here by running it a few times"
      ],
      "id": "25053d23"
    },
    {
      "cell_type": "markdown",
      "metadata": {
        "id": "762e40ff"
      },
      "source": [
        "**Extension.** For the last 10 seconds (or fewer, if the number of seconds given by the user is less than 10), the timer prints a countdown every second: 10, 9, 8, 7, 6, 5, 4, 3, 2, 1. Only do this extension if you have found the earlier material very easy, otherwise move on to the next exercise."
      ],
      "id": "762e40ff"
    },
    {
      "cell_type": "code",
      "execution_count": null,
      "metadata": {
        "id": "5b5da4b2"
      },
      "outputs": [],
      "source": [
        "# write your extension here"
      ],
      "id": "5b5da4b2"
    },
    {
      "cell_type": "code",
      "execution_count": null,
      "metadata": {
        "id": "f64807cb"
      },
      "outputs": [],
      "source": [
        "# informally test your extension here"
      ],
      "id": "f64807cb"
    }
  ],
  "metadata": {
    "kernelspec": {
      "display_name": "Python 3",
      "language": "python",
      "name": "python3"
    },
    "language_info": {
      "codemirror_mode": {
        "name": "ipython",
        "version": 3
      },
      "file_extension": ".py",
      "mimetype": "text/x-python",
      "name": "python",
      "nbconvert_exporter": "python",
      "pygments_lexer": "ipython3",
      "version": "3.9.9"
    },
    "colab": {
      "provenance": [],
      "include_colab_link": true
    }
  },
  "nbformat": 4,
  "nbformat_minor": 5
}