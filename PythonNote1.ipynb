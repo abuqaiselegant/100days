{
  "nbformat": 4,
  "nbformat_minor": 0,
  "metadata": {
    "colab": {
      "provenance": [],
      "authorship_tag": "ABX9TyO5OW3NCgLfr2vN5EFWEX10",
      "include_colab_link": true
    },
    "kernelspec": {
      "name": "python3",
      "display_name": "Python 3"
    },
    "language_info": {
      "name": "python"
    }
  },
  "cells": [
    {
      "cell_type": "markdown",
      "metadata": {
        "id": "view-in-github",
        "colab_type": "text"
      },
      "source": [
        "<a href=\"https://colab.research.google.com/github/abuqaiselegant/100days/blob/main/PythonNote1.ipynb\" target=\"_parent\"><img src=\"https://colab.research.google.com/assets/colab-badge.svg\" alt=\"Open In Colab\"/></a>"
      ]
    },
    {
      "cell_type": "code",
      "execution_count": null,
      "metadata": {
        "id": "7oZ8lO2CHHSM"
      },
      "outputs": [],
      "source": [
        "def isPalindrome(x):\n",
        "        \"\"\"\n",
        "        :type x: int\n",
        "        :rtype: bool\n",
        "        \"\"\"\n",
        "        rev = 0\n",
        "        temp = x\n",
        "        while temp>0:\n",
        "            rem = temp%10\n",
        "            rev = rev*10+rem\n",
        "            temp=temp//10\n",
        "        if rev == x:\n",
        "            return True\n",
        "        else :\n",
        "            return False\n"
      ]
    },
    {
      "cell_type": "code",
      "source": [
        "isPalindrome(1920021)"
      ],
      "metadata": {
        "colab": {
          "base_uri": "https://localhost:8080/"
        },
        "id": "yhbpOlXYH16Z",
        "outputId": "64a7c6b4-1581-46f8-fb9d-6d147df857d6"
      },
      "execution_count": null,
      "outputs": [
        {
          "output_type": "execute_result",
          "data": {
            "text/plain": [
              "False"
            ]
          },
          "metadata": {},
          "execution_count": 12
        }
      ]
    },
    {
      "cell_type": "code",
      "source": [
        "def pal(x):\n",
        "    if x<0:\n",
        "        return False\n",
        "    if str(x)==str(x)[::-1] :\n",
        "        return True\n",
        "    else :\n",
        "        return False"
      ],
      "metadata": {
        "id": "TXA1iIUfPqrO"
      },
      "execution_count": null,
      "outputs": []
    },
    {
      "cell_type": "code",
      "source": [
        "pal(10)"
      ],
      "metadata": {
        "colab": {
          "base_uri": "https://localhost:8080/"
        },
        "id": "PTc2bWZZQWuM",
        "outputId": "7c30b7ef-0d7c-4755-fe62-a07f511351c4"
      },
      "execution_count": null,
      "outputs": [
        {
          "output_type": "execute_result",
          "data": {
            "text/plain": [
              "False"
            ]
          },
          "metadata": {},
          "execution_count": 28
        }
      ]
    },
    {
      "cell_type": "code",
      "source": [
        "def isPalindrome(s):\n",
        "    s= s.lower()\n",
        "    cleaned = []\n",
        "    for c in s:\n",
        "        if c.isalnum():\n",
        "            cleaned.append(c)\n",
        "    cleaned = ''.join(cleaned)\n",
        "    if cleaned == cleaned[::-1]:\n",
        "        return True\n",
        "    else :\n",
        "        return False\n"
      ],
      "metadata": {
        "id": "14nO4slyQZfD"
      },
      "execution_count": null,
      "outputs": []
    },
    {
      "cell_type": "code",
      "source": [
        "isPalindrome(\"ab ba\")"
      ],
      "metadata": {
        "colab": {
          "base_uri": "https://localhost:8080/"
        },
        "id": "Wvc2QX6u6_HE",
        "outputId": "09e8431b-50b8-467f-d3df-b2c4e767c6c7"
      },
      "execution_count": null,
      "outputs": [
        {
          "output_type": "execute_result",
          "data": {
            "text/plain": [
              "True"
            ]
          },
          "metadata": {},
          "execution_count": 25
        }
      ]
    },
    {
      "cell_type": "markdown",
      "source": [
        "insertion sort"
      ],
      "metadata": {
        "id": "7pH8Y3Jnou1u"
      }
    },
    {
      "cell_type": "code",
      "source": [
        "def insertionSort(x):\n",
        "    for i in range(len(x)):\n",
        "        j =i\n",
        "        while(j>0 and x[j-1]>x[j]):\n",
        "            temp = x[j]\n",
        "            x[j]=x[j-1]\n",
        "            x[j-1]=temp\n",
        "            j-=1\n",
        "\n",
        "    return x\n"
      ],
      "metadata": {
        "id": "uBLUCgec7IMd"
      },
      "execution_count": 17,
      "outputs": []
    },
    {
      "cell_type": "code",
      "source": [
        "insertionSort(arr)"
      ],
      "metadata": {
        "colab": {
          "base_uri": "https://localhost:8080/"
        },
        "id": "YbqFEqd_NMoF",
        "outputId": "7c4b5db3-a1a2-4411-b999-1018c99b33ab"
      },
      "execution_count": 18,
      "outputs": [
        {
          "output_type": "execute_result",
          "data": {
            "text/plain": [
              "[-202, -97, -9, -2, 0, 11, 45, 88, 747]"
            ]
          },
          "metadata": {},
          "execution_count": 18
        }
      ]
    },
    {
      "cell_type": "markdown",
      "source": [
        "selection sort"
      ],
      "metadata": {
        "id": "0_A5KHTbo2NF"
      }
    },
    {
      "cell_type": "markdown",
      "source": [
        "select lowest and replace it with the first and respectively\n",
        "13,45,34,23,11,1,2"
      ],
      "metadata": {
        "id": "ciJXRVQxx_F-"
      }
    },
    {
      "cell_type": "code",
      "source": [
        "def SelectionSort(x):\n",
        "\n",
        "    for i in range(len(x)-1):\n",
        "        minElement = i\n",
        "        for j in range(i+1,len(x)):\n",
        "            if x[minElement] > x[j]:\n",
        "                minElement = j\n",
        "        temp = x[i]\n",
        "        x[i]=x[minElement]\n",
        "        x[minElement] = temp\n",
        "    return x"
      ],
      "metadata": {
        "id": "VVu9U9a9o09z"
      },
      "execution_count": 6,
      "outputs": []
    },
    {
      "cell_type": "code",
      "source": [
        "arr = [-2, 45, 0, 11, -9,88,-97,-202,747]\n",
        "SelectionSort(arr)"
      ],
      "metadata": {
        "colab": {
          "base_uri": "https://localhost:8080/"
        },
        "id": "EMvvVR7G2AUj",
        "outputId": "19e2ca7f-eaea-4e34-f756-789f61a91b22"
      },
      "execution_count": 7,
      "outputs": [
        {
          "output_type": "execute_result",
          "data": {
            "text/plain": [
              "[-202, -97, -9, -2, 0, 11, 45, 88, 747]"
            ]
          },
          "metadata": {},
          "execution_count": 7
        }
      ]
    },
    {
      "cell_type": "markdown",
      "source": [
        "merge sort"
      ],
      "metadata": {
        "id": "96Y2FIeBo3tI"
      }
    },
    {
      "cell_type": "code",
      "source": [],
      "metadata": {
        "id": "Q9Zmx4JLo1TE"
      },
      "execution_count": null,
      "outputs": []
    },
    {
      "cell_type": "markdown",
      "source": [
        "Bubble Sort\n",
        "swap adjacent one and this one leads to maximum element to last and then iteration will be one less in rest\n",
        "7,18,3,1,9,66\n",
        "7,18,3,1,9,66\n",
        "7,3,18,1,9,66\n",
        "7,3,1,18,9,66\n",
        "7,3,1,9,18,66\n",
        "\n",
        "3,7,1,9,18\n",
        "3,1,7,9,18\n"
      ],
      "metadata": {
        "id": "q-jU2-ZRo9w1"
      }
    },
    {
      "cell_type": "code",
      "source": [
        "def bubbleSort(x):\n",
        "\n",
        "    for i in range(len(x)-1):\n",
        "        for j in range(len(x)-1-i):\n",
        "            if x[j+1]<x[j]:\n",
        "                temp = x[j+1]\n",
        "                x[j+1]=x[j]\n",
        "                x[j]=temp\n",
        "    return x\n",
        ""
      ],
      "metadata": {
        "id": "SrkD4eUHo9d3"
      },
      "execution_count": 14,
      "outputs": []
    },
    {
      "cell_type": "code",
      "source": [
        "a = [1,300,4,56,41]\n",
        "bubbleSort(a)"
      ],
      "metadata": {
        "colab": {
          "base_uri": "https://localhost:8080/"
        },
        "id": "DzFJAXIhEIlz",
        "outputId": "e9e59659-3626-4d74-ce61-72f88b3caf94"
      },
      "execution_count": 15,
      "outputs": [
        {
          "output_type": "execute_result",
          "data": {
            "text/plain": [
              "[1, 4, 41, 56, 300]"
            ]
          },
          "metadata": {},
          "execution_count": 15
        }
      ]
    },
    {
      "cell_type": "code",
      "source": [],
      "metadata": {
        "id": "5zGspYh4ELzP"
      },
      "execution_count": null,
      "outputs": []
    }
  ]
}