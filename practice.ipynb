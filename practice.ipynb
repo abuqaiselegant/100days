{
  "nbformat": 4,
  "nbformat_minor": 0,
  "metadata": {
    "colab": {
      "provenance": [],
      "authorship_tag": "ABX9TyPKgSqGO24iQYGtWPIu2egl",
      "include_colab_link": true
    },
    "kernelspec": {
      "name": "python3",
      "display_name": "Python 3"
    },
    "language_info": {
      "name": "python"
    }
  },
  "cells": [
    {
      "cell_type": "markdown",
      "metadata": {
        "id": "view-in-github",
        "colab_type": "text"
      },
      "source": [
        "<a href=\"https://colab.research.google.com/github/abuqaiselegant/100days/blob/main/practice.ipynb\" target=\"_parent\"><img src=\"https://colab.research.google.com/assets/colab-badge.svg\" alt=\"Open In Colab\"/></a>"
      ]
    },
    {
      "cell_type": "markdown",
      "source": [
        "Topic 1:"
      ],
      "metadata": {
        "id": "GnP-zAHkm0sS"
      }
    },
    {
      "cell_type": "code",
      "execution_count": 2,
      "metadata": {
        "colab": {
          "base_uri": "https://localhost:8080/"
        },
        "id": "Jwq0_EwJkzMU",
        "outputId": "87b4afeb-bc32-4c97-c4f1-a75f73c3dadb"
      },
      "outputs": [
        {
          "output_type": "execute_result",
          "data": {
            "text/plain": [
              "['abu', 'akshar', 'lyna', 'arman']"
            ]
          },
          "metadata": {},
          "execution_count": 2
        }
      ],
      "source": [
        "a=[\"abu\", \"akshar\", \"lyna\",\"arman\"]\n",
        "a"
      ]
    },
    {
      "cell_type": "code",
      "source": [
        "a.append(\"akash\")\n",
        "a"
      ],
      "metadata": {
        "colab": {
          "base_uri": "https://localhost:8080/"
        },
        "id": "hTB7OtUJmzi-",
        "outputId": "830ebc3e-e178-433d-cc37-d5b802859441"
      },
      "execution_count": 3,
      "outputs": [
        {
          "output_type": "execute_result",
          "data": {
            "text/plain": [
              "['abu', 'akshar', 'lyna', 'arman', 'akash']"
            ]
          },
          "metadata": {},
          "execution_count": 3
        }
      ]
    },
    {
      "cell_type": "code",
      "source": [
        "def adding(listOfa,newWord):\n",
        "  listOfa.append(newWord)"
      ],
      "metadata": {
        "id": "awCsFjGxS6j0"
      },
      "execution_count": null,
      "outputs": []
    },
    {
      "cell_type": "code",
      "source": [
        "adding(a,\"akram\")\n",
        "a"
      ],
      "metadata": {
        "colab": {
          "base_uri": "https://localhost:8080/"
        },
        "id": "6YIe92QZTPpF",
        "outputId": "e66c040e-694c-433e-e6be-2b23928fa996"
      },
      "execution_count": null,
      "outputs": [
        {
          "output_type": "execute_result",
          "data": {
            "text/plain": [
              "['abu', 'akshar', 'aditi', 'arman', 'akash', 'akram']"
            ]
          },
          "metadata": {},
          "execution_count": 29
        }
      ]
    },
    {
      "cell_type": "code",
      "source": [
        "adding(a,12)\n",
        "type(a[5])"
      ],
      "metadata": {
        "colab": {
          "base_uri": "https://localhost:8080/"
        },
        "id": "EEIU3BiWTUXl",
        "outputId": "a09029bf-9849-4f37-9b01-7c58c05ba791"
      },
      "execution_count": null,
      "outputs": [
        {
          "output_type": "execute_result",
          "data": {
            "text/plain": [
              "str"
            ]
          },
          "metadata": {},
          "execution_count": 24
        }
      ]
    },
    {
      "cell_type": "code",
      "source": [
        "adding(a,19)\n",
        "type(a[7])"
      ],
      "metadata": {
        "colab": {
          "base_uri": "https://localhost:8080/"
        },
        "id": "iYYBmWRJTZy-",
        "outputId": "db1a44ae-1899-4d74-962e-934e6091f8f8"
      },
      "execution_count": null,
      "outputs": [
        {
          "output_type": "execute_result",
          "data": {
            "text/plain": [
              "int"
            ]
          },
          "metadata": {},
          "execution_count": 31
        }
      ]
    },
    {
      "cell_type": "markdown",
      "source": [],
      "metadata": {
        "id": "8LNoeOGwZZxc"
      }
    },
    {
      "cell_type": "markdown",
      "source": [
        "Here Zip mathed is used. To map the items in list or tuple .. if it has difference in length.. it will map the remaining"
      ],
      "metadata": {
        "id": "xJwjwqetZXPg"
      }
    },
    {
      "cell_type": "code",
      "source": [
        "def congratulatePrizewinners():\n",
        "  listOfPrizeWinners = [\"Kermit the Frog\", \"Miss Piggy\",\"diggy\",\"hgjhg\", \"Fozzie Bear\"]\n",
        "  listOfCongratulations = [\"Hurrah for \", \"Congratulations to \", \"Let's have a round of applause for \", \"Whoo hoo to\"]\n",
        "  if len(listOfPrizeWinners) != len(listOfCongratulations):\n",
        "      print(\"inconsistent lengths\")\n",
        "  print(list(zip(listOfPrizeWinners,listOfCongratulations)))"
      ],
      "metadata": {
        "id": "VRIkDEVVUC65"
      },
      "execution_count": 4,
      "outputs": []
    },
    {
      "cell_type": "code",
      "source": [
        "congratulatePrizewinners()"
      ],
      "metadata": {
        "id": "ZTngj4swQbQE",
        "colab": {
          "base_uri": "https://localhost:8080/"
        },
        "outputId": "fa090890-2aa2-46dd-eab1-15818d404745"
      },
      "execution_count": 5,
      "outputs": [
        {
          "output_type": "stream",
          "name": "stdout",
          "text": [
            "inconsistent lengths\n",
            "[('Kermit the Frog', 'Hurrah for '), ('Miss Piggy', 'Congratulations to '), ('diggy', \"Let's have a round of applause for \"), ('hgjhg', 'Whoo hoo to')]\n"
          ]
        }
      ]
    },
    {
      "cell_type": "code",
      "source": [
        "\n",
        "\n",
        "import random\n",
        "\n",
        "def prizeWinner(listOfPrize):\n",
        "  prizeWon =[]\n",
        "  for x in listOfPrize:\n",
        "    roll1 = random.randint(1,6)\n",
        "    roll2 = random.randint(1,6)\n",
        "    print(roll1, roll2)\n",
        "    if roll1 == 6 or roll2 ==6:\n",
        "\n",
        "      print(f\"you won a {x}....\")\n",
        "      prizeWon.append(x)\n",
        "    else:\n",
        "      print(\"bad luck buddy\")\n",
        "  return prizeWon\n",
        "\n",
        "listOfPrize = [\"egg\", \"honey\", \"hen\",\"plenny box\"]\n",
        "prizeWinner(listOfPrize)"
      ],
      "metadata": {
        "colab": {
          "base_uri": "https://localhost:8080/"
        },
        "id": "67P2MRptZV5N",
        "outputId": "3d72495f-ffdb-4a27-cbb1-19640d094bf1"
      },
      "execution_count": 19,
      "outputs": [
        {
          "output_type": "stream",
          "name": "stdout",
          "text": [
            "2 1\n",
            "bad luck buddy\n",
            "6 1\n",
            "you won a honey....\n",
            "5 4\n",
            "bad luck buddy\n",
            "3 6\n",
            "you won a plenny box....\n"
          ]
        },
        {
          "output_type": "execute_result",
          "data": {
            "text/plain": [
              "['honey', 'plenny box']"
            ]
          },
          "metadata": {},
          "execution_count": 19
        }
      ]
    },
    {
      "cell_type": "code",
      "source": [
        "name = \"Alice\"\n",
        "age = 30\n",
        "\n",
        "print(f\"Hello, my name is {name} and I am {age} years old.\")"
      ],
      "metadata": {
        "colab": {
          "base_uri": "https://localhost:8080/"
        },
        "id": "AyI9WGkpdXb7",
        "outputId": "01227069-f9bf-4f28-861e-84d71bb866d7"
      },
      "execution_count": 14,
      "outputs": [
        {
          "output_type": "stream",
          "name": "stdout",
          "text": [
            "Hello, my name is Alice and I am 30 years old.\n"
          ]
        }
      ]
    },
    {
      "cell_type": "code",
      "source": [],
      "metadata": {
        "id": "kdFIpoiLecMa"
      },
      "execution_count": null,
      "outputs": []
    }
  ]
}