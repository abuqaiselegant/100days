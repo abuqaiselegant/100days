{
  "nbformat": 4,
  "nbformat_minor": 0,
  "metadata": {
    "colab": {
      "provenance": [],
      "include_colab_link": true
    },
    "kernelspec": {
      "name": "python3",
      "display_name": "Python 3"
    },
    "language_info": {
      "name": "python"
    }
  },
  "cells": [
    {
      "cell_type": "markdown",
      "metadata": {
        "id": "view-in-github",
        "colab_type": "text"
      },
      "source": [
        "<a href=\"https://colab.research.google.com/github/abuqaiselegant/100days/blob/main/Copy_of_COMP4008_Lab_4_(2024).ipynb\" target=\"_parent\"><img src=\"https://colab.research.google.com/assets/colab-badge.svg\" alt=\"Open In Colab\"/></a>"
      ]
    },
    {
      "cell_type": "markdown",
      "source": [
        "# Lab 4: Classes\n",
        "\n",
        "In this lab, you will learn some details of OOP in Python and put your knowledge into practice by developing and testing two classes: `Person` and `Database`.\n",
        "\n",
        "## Exercise 1\n",
        "\n",
        "Create class `Person` to store information about a person.  Include the following attributes:\n",
        "\n",
        "*   First name\n",
        "*   Last name\n",
        "*   Year of birth (e.g., 1990)\n",
        "*   Parent 1 (an object of class `Person`)\n",
        "*   Parent 2 (an object of class `Person`)\n",
        "\n",
        "_Note that Parent 1 and Parent 2 are not strings!_\n",
        "\n",
        "Refer to the lecture code for an example of how to create a class and store data in its attributes.\n",
        "\n",
        "An interesting detail about this example is the recursion within class `Person`; two attributes of class `Person` person are of type `Person`.  We will talk about the mechanisc of this in the coming lectures.  In the meantime, you may face a dilemma; when creating an object of class `Person`, you may not always want to specify the parents.  You will need to find a way to keep this flexible: specify the parents when you need but also allow skipping one or both of them.  There exist many reasonable approaches to this problem; you can use any of them.\n",
        "\n",
        "Your implementation of `Person` should also include several methods:\n",
        "*   Constructor `__init__` that initialises the object.\n",
        "*   `__str__` function.  This is a standard function that takes no parameters (only `self`) and returns a string representation of the object.  Every time you call the `str` function in Python, Python actually calls the `__str__` function of the object that is being converted into a string.  In this exercise, you will probably want to return the full name of the person, although you may also include some other infromation.\n",
        "*   `get_full_name` that returns the full name of the person.\n",
        "*   `get_age` that calculates the current age of the person.  Your implementation should check the current year (Google how to do this) and subtract the year of birth.\n",
        "*   `get_parents` that returns the list of known parents (it can be empty, or contain one or two elements).  Note that this should be a list of objects of class `Parent`, not their names.\n",
        "\n",
        "Write your code below.  In this and the following exercises, you will need to determinte the most appropriate parameter lists for each method.\n",
        "\n",
        "\n",
        "\n"
      ],
      "metadata": {
        "id": "jRqYzUSdHjb5"
      }
    },
    {
      "cell_type": "code",
      "source": [
        "from datetime import date\n",
        "today = date.today().year\n",
        "today"
      ],
      "metadata": {
        "colab": {
          "base_uri": "https://localhost:8080/"
        },
        "id": "UVOHCNUVc0g_",
        "outputId": "2ef8f12b-43e3-4f3c-edb5-0947c34e8e28"
      },
      "execution_count": 1,
      "outputs": [
        {
          "output_type": "execute_result",
          "data": {
            "text/plain": [
              "2024"
            ]
          },
          "metadata": {},
          "execution_count": 1
        }
      ]
    },
    {
      "cell_type": "code",
      "source": [
        "from datetime import date\n",
        "# Define the Person class here\n",
        "class Person:\n",
        "    def __init__(self, firstName, lastName, yearOfBirth, Parent1 = None, Parent2 = None):\n",
        "        self.firstName = firstName\n",
        "        self.lastName = lastName\n",
        "        self.yearOfBirth = yearOfBirth\n",
        "        self.Parent1 = Parent1\n",
        "        self.Parent2 = Parent2\n",
        "\n",
        "\n",
        "    def __str__(self):\n",
        "        return f\"{self.firstName} {self.lastName}\"\n",
        "\n",
        "    def get_full_name(self):\n",
        "        return f\"{self.firstName} {self.lastName}\"\n",
        "\n",
        "    def get_age(self):\n",
        "        current_year = date.today().year\n",
        "        return current_year - self.yearOfBirth\n",
        "\n",
        "    def get_parents(self):\n",
        "      listOfParents =[]\n",
        "      if self.Parent1 is not None:\n",
        "            listOfParents.append(self.Parent1)\n",
        "      if self.Parent2 is not None:\n",
        "            listOfParents.append(self.Parent2)\n",
        "      return listOfParents\n",
        "\n",
        "    def __repr__(self):\n",
        "      return f\"{self.firstName} {self.lastName}\"\n",
        "\n",
        "\n",
        "Nicholas = Person(\"Bjorn\", \"Ironside\",1945)\n",
        "\n",
        "Ivar = Person(\"Ivar\", \"Ironside\",1345)\n",
        "person1 = Person(\"King\", \"Ragnar\", 1985, Nicholas,Ivar)\n",
        "print(person1)\n",
        "print(person1.get_full_name())\n",
        "print(person1.get_age())\n",
        "print(person1.get_parents())\n",
        "\n",
        "# Test your Person class here: create a few objects of class Person, print them\n",
        "# and check that the functions you implemented work as expected.  Test the edge\n",
        "# cases such as a person who doesn't have parents specified; a person with\n",
        "# both parents specified; a person born this year...\n"
      ],
      "metadata": {
        "id": "NXKQS15GJ134",
        "colab": {
          "base_uri": "https://localhost:8080/"
        },
        "outputId": "882fd901-22c4-4030-893e-164514df3187"
      },
      "execution_count": 17,
      "outputs": [
        {
          "output_type": "stream",
          "name": "stdout",
          "text": [
            "King Ragnar\n",
            "King Ragnar\n",
            "39\n",
            "[Bjorn Ironside, Ivar Ironside]\n"
          ]
        }
      ]
    },
    {
      "cell_type": "markdown",
      "source": [
        "# If you tried printing a list of `Person` objects, you probably noticed that Python does not use the `__str__` function.  The `__str__` function is supposed to produce a user-friendly representation of the object whereas the assumption is that the default string representation of a list is not user-friendly.  Try implementing the `__repr__` function (you can use the same implementation as your `__str__` function)."
      ],
      "metadata": {
        "id": "DIv6rzWKrZiQ"
      }
    },
    {
      "cell_type": "markdown",
      "source": [
        "## Exercise 2\n",
        "\n",
        "Create a class `Database` that stores multiple records of people (objects of type `Person`).  It should implement the following methods:\n",
        "* `add_person` that adds a new person to the database.\n",
        "* `get_children` that returns the list of children of a given person.\n",
        "* `get_siblings` that returns the list of full siblings of a given person, i.e. people who share both parents.  Assume that people with less than two specified parents cannot have full siblings."
      ],
      "metadata": {
        "id": "quzRm_bDHeQ_"
      }
    },
    {
      "cell_type": "code",
      "source": [
        "# Define your Database class here\n",
        "class Database:\n",
        "    def __init__(self):\n",
        "        self.people =[]\n",
        "\n",
        "\n",
        "    def add_person(self,person):\n",
        "        if Person not in self.people:\n",
        "            self.people.append(person)\n",
        "\n",
        "\n",
        "    def get_children(self,parent):\n",
        "        children =[]\n",
        "        for person in self.people:\n",
        "            if parent in person.get_parents():\n",
        "                children.append(person)\n",
        "        return children\n",
        "\n",
        "\n",
        "    def get_siblings(self):\n",
        "\n",
        "\n",
        "\n",
        "\n",
        "# Test your Database class here: create an object of class Database and populate\n",
        "# it with several people.  Test all the functions that you implemented.\n",
        "\n",
        "\n"
      ],
      "metadata": {
        "id": "-zecBO-fK19k"
      },
      "execution_count": 26,
      "outputs": []
    },
    {
      "cell_type": "code",
      "source": [
        "parent1 = Person(\"albert\", \"Einstein\", 1965)\n",
        "parent2 = Person(\"marie\", \"curie\", 1967)\n",
        "child1 = Person(\"graham\", \"bell\", 1990, parent1, parent2)\n",
        "child2 = Person(\"Nikola\", \"Tesla\", 1992, parent1, parent2)\n",
        "child3 = Person(\"Elon\", \"Musk\", 1995, parent1)  # Only one parent specified\n",
        "\n",
        "    # Initialize the Database and add people\n",
        "db = Database()\n",
        "db.add_person(parent1)\n",
        "db.add_person(parent2)\n",
        "db.add_person(child1)\n",
        "db.add_person(child2)\n",
        "db.add_person(child3)\n",
        "\n",
        "    # Test get_children\n",
        "print(f\"\\n--- Children of {parent1} ---\")\n",
        "for child in db.get_children(parent2):\n",
        "    print(child)  # Expected: Alice Doe, Bob Doe, Charlie Doe"
      ],
      "metadata": {
        "colab": {
          "base_uri": "https://localhost:8080/"
        },
        "id": "gnOmOY6mX1lK",
        "outputId": "d51b8b3d-5d34-40b8-f757-cf70fcc7c403"
      },
      "execution_count": 31,
      "outputs": [
        {
          "output_type": "stream",
          "name": "stdout",
          "text": [
            "\n",
            "--- Children of albert Einstein ---\n",
            "graham bell\n",
            "Nikola Tesla\n"
          ]
        }
      ]
    },
    {
      "cell_type": "markdown",
      "source": [
        "## Exercise 3\n",
        "\n",
        "There is a small issue with the `Database` class from Exercise 2.  If someone accidentally adds the same person twice, there will be two identical records in the database.  Modify your implementation of the `Database.add_person` method so that it allows only one record for each person in the database.  An attempt to add a duplicate record should result in a warning message while leaving the database unchanged.  Assume that the name, surname and year of birth uniquely identify a person.\n",
        "\n",
        "Test your updated implementation of `add_person`."
      ],
      "metadata": {
        "id": "x5VPX5ptLbgu"
      }
    },
    {
      "cell_type": "code",
      "source": [
        "# Define your updated Database class here\n",
        "\n",
        "\n",
        "\n",
        "# Test your updated Database class here.  Include a test that creates two\n",
        "# records (two objects of class Person) with exactly the same name, surname\n",
        "# and year of birth.  Does your implementation correctly handle this?\n",
        "\n",
        "\n"
      ],
      "metadata": {
        "id": "9JhYMG_6MQ6Y"
      },
      "execution_count": null,
      "outputs": []
    }
  ]
}