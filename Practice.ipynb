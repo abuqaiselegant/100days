{
  "nbformat": 4,
  "nbformat_minor": 0,
  "metadata": {
    "colab": {
      "provenance": [],
      "authorship_tag": "ABX9TyO6PLKqs/Oc0sDnQlmvO0kH",
      "include_colab_link": true
    },
    "kernelspec": {
      "name": "python3",
      "display_name": "Python 3"
    },
    "language_info": {
      "name": "python"
    }
  },
  "cells": [
    {
      "cell_type": "markdown",
      "metadata": {
        "id": "view-in-github",
        "colab_type": "text"
      },
      "source": [
        "<a href=\"https://colab.research.google.com/github/abuqaiselegant/100days/blob/main/Practice.ipynb\" target=\"_parent\"><img src=\"https://colab.research.google.com/assets/colab-badge.svg\" alt=\"Open In Colab\"/></a>"
      ]
    },
    {
      "cell_type": "markdown",
      "source": [
        "Topic 1:"
      ],
      "metadata": {
        "id": "GnP-zAHkm0sS"
      }
    },
    {
      "cell_type": "code",
      "execution_count": null,
      "metadata": {
        "colab": {
          "base_uri": "https://localhost:8080/"
        },
        "id": "Jwq0_EwJkzMU",
        "outputId": "fe0e880f-f8bc-490b-a0a6-d08fd565d6d1"
      },
      "outputs": [
        {
          "output_type": "execute_result",
          "data": {
            "text/plain": [
              "['abu', 'akshar', 'aditi', 'arman']"
            ]
          },
          "metadata": {},
          "execution_count": 1
        }
      ],
      "source": [
        "a=[\"abu\", \"akshar\", \"aditi\",\"arman\"]\n",
        "a"
      ]
    },
    {
      "cell_type": "code",
      "source": [
        "a.append(\"akash\")\n",
        "a"
      ],
      "metadata": {
        "colab": {
          "base_uri": "https://localhost:8080/"
        },
        "id": "hTB7OtUJmzi-",
        "outputId": "77dc417f-e323-4089-d4ec-1b7cf7f5d70d"
      },
      "execution_count": null,
      "outputs": [
        {
          "output_type": "execute_result",
          "data": {
            "text/plain": [
              "['abu', 'akshar', 'aditi', 'arman', 'akash']"
            ]
          },
          "metadata": {},
          "execution_count": 20
        }
      ]
    },
    {
      "cell_type": "code",
      "source": [
        "def adding(listOfa,newWord):\n",
        "  listOfa.append(newWord)"
      ],
      "metadata": {
        "id": "awCsFjGxS6j0"
      },
      "execution_count": null,
      "outputs": []
    },
    {
      "cell_type": "code",
      "source": [
        "adding(a,\"akram\")\n",
        "a"
      ],
      "metadata": {
        "colab": {
          "base_uri": "https://localhost:8080/"
        },
        "id": "6YIe92QZTPpF",
        "outputId": "58f8224b-bba5-4398-cb56-7fa4191abfb2"
      },
      "execution_count": null,
      "outputs": [
        {
          "output_type": "execute_result",
          "data": {
            "text/plain": [
              "['abu', 'akshar', 'aditi', 'arman', 'akash', 'akram']"
            ]
          },
          "metadata": {},
          "execution_count": 22
        }
      ]
    },
    {
      "cell_type": "code",
      "source": [
        "adding(a,12)\n",
        "type(a[5])"
      ],
      "metadata": {
        "colab": {
          "base_uri": "https://localhost:8080/"
        },
        "id": "EEIU3BiWTUXl",
        "outputId": "02ab95e4-260b-4498-e7f4-86f5f9d26261"
      },
      "execution_count": null,
      "outputs": [
        {
          "output_type": "execute_result",
          "data": {
            "text/plain": [
              "str"
            ]
          },
          "metadata": {},
          "execution_count": 23
        }
      ]
    },
    {
      "cell_type": "code",
      "source": [
        "adding(a,19)\n",
        "type(a[7])"
      ],
      "metadata": {
        "colab": {
          "base_uri": "https://localhost:8080/"
        },
        "id": "iYYBmWRJTZy-",
        "outputId": "95a6354d-9aae-4231-c60b-e6b329be43c2"
      },
      "execution_count": null,
      "outputs": [
        {
          "output_type": "execute_result",
          "data": {
            "text/plain": [
              "int"
            ]
          },
          "metadata": {},
          "execution_count": 24
        }
      ]
    },
    {
      "cell_type": "code",
      "source": [
        "b=[]\n",
        "b.append(1)\n",
        "b.append('a')\n",
        "b.append(\"sufiyan\")\n",
        "b.append(\"khan\")\n",
        "b.pop(0) ##this will remove item by its position\n",
        "b.remove(\"a\") ## this will remove item by its name\n"
      ],
      "metadata": {
        "id": "VRIkDEVVUC65"
      },
      "execution_count": null,
      "outputs": []
    },
    {
      "cell_type": "markdown",
      "source": [
        "Insert n into arr at the next open position.\n",
        "Length is the number of 'real' values in arr, and capacity is the size (aka memory allocated for the fixed size array)."
      ],
      "metadata": {
        "id": "p_A2Pjog6OWu"
      }
    },
    {
      "cell_type": "code",
      "source": [
        "def insertEnd(arr, n, length, capacity):\n",
        "    if length<capacity:\n",
        "        arr[length]=n\n",
        "    else:\n",
        "        None"
      ],
      "metadata": {
        "id": "ZTngj4swQbQE"
      },
      "execution_count": 18,
      "outputs": []
    },
    {
      "cell_type": "code",
      "source": [
        "a=[1,2,4,6,7, None, None,None]\n",
        "insertEnd(a,99,5,7)\n",
        "insertEnd(a,999,6,7)\n",
        "insertEnd(a,99,7,7)\n",
        "insertEnd(a,99,5,7)\n",
        "a[2]=7777\n",
        "a"
      ],
      "metadata": {
        "colab": {
          "base_uri": "https://localhost:8080/"
        },
        "id": "_OhYaQhz6szZ",
        "outputId": "74875b20-6890-4d4c-e981-5181ea5dd58a"
      },
      "execution_count": 21,
      "outputs": [
        {
          "output_type": "execute_result",
          "data": {
            "text/plain": [
              "[1, 2, 7777, 6, 7, 99, 999, None]"
            ]
          },
          "metadata": {},
          "execution_count": 21
        }
      ]
    },
    {
      "cell_type": "markdown",
      "source": [
        "Remove from the last position in the array if the array is not empty (i.e. length is non-zero)."
      ],
      "metadata": {
        "id": "3L0q_j5n9ZMI"
      }
    },
    {
      "cell_type": "code",
      "source": [
        "def removeEnd(arr):\n",
        "    length =len(arr)-1\n",
        "    if arr[length]!=None:\n",
        "        arr[length]=None\n",
        "\n"
      ],
      "metadata": {
        "id": "zNcnVdYK63kg"
      },
      "execution_count": 24,
      "outputs": []
    },
    {
      "cell_type": "code",
      "source": [
        "removeEnd(a)\n",
        "print(len(a))\n",
        "a"
      ],
      "metadata": {
        "colab": {
          "base_uri": "https://localhost:8080/"
        },
        "id": "GHKy_1o7-Lnc",
        "outputId": "c1161658-7e32-4201-d3b6-645e719a45b2"
      },
      "execution_count": 30,
      "outputs": [
        {
          "output_type": "stream",
          "name": "stdout",
          "text": [
            "8\n"
          ]
        },
        {
          "output_type": "execute_result",
          "data": {
            "text/plain": [
              "[1, 2, 7777, 6, 7, 99, 999, None]"
            ]
          },
          "metadata": {},
          "execution_count": 30
        }
      ]
    },
    {
      "cell_type": "markdown",
      "source": [
        "Insert n into index i after shifting elements to the right.\n",
        "Assuming i is a valid index and arr is not full."
      ],
      "metadata": {
        "id": "-uUZHE43_-z4"
      }
    },
    {
      "cell_type": "code",
      "source": [
        "a =[1, 2, 7777, 6, 7, None, None, None]\n"
      ],
      "metadata": {
        "id": "20M-rLhRBcC-"
      },
      "execution_count": 56,
      "outputs": []
    },
    {
      "cell_type": "code",
      "source": [
        "def middleInsert(arr, i , n, length):\n",
        "    for x in range(length-1,i-1-2,-1):\n",
        "        arr[x+1] = arr[x]\n",
        "\n",
        "    arr[i-1]=n\n",
        "\n",
        "middleInsert(a,3,1000,5)\n",
        "a"
      ],
      "metadata": {
        "colab": {
          "base_uri": "https://localhost:8080/"
        },
        "id": "_G8BBlvy-Nv3",
        "outputId": "4416e517-4e72-49ea-a10f-87b4acab70b3"
      },
      "execution_count": 57,
      "outputs": [
        {
          "output_type": "execute_result",
          "data": {
            "text/plain": [
              "[1, 2, 1000, 7777, 6, 7, None, None]"
            ]
          },
          "metadata": {},
          "execution_count": 57
        }
      ]
    },
    {
      "cell_type": "code",
      "source": [],
      "metadata": {
        "id": "0X43z6CXFBBa"
      },
      "execution_count": null,
      "outputs": []
    }
  ]
}