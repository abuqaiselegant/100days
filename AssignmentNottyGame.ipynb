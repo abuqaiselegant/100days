{
  "nbformat": 4,
  "nbformat_minor": 0,
  "metadata": {
    "colab": {
      "provenance": [],
      "authorship_tag": "ABX9TyPFbzXdntPoneRKwVw0smvV",
      "include_colab_link": true
    },
    "kernelspec": {
      "name": "python3",
      "display_name": "Python 3"
    },
    "language_info": {
      "name": "python"
    }
  },
  "cells": [
    {
      "cell_type": "markdown",
      "metadata": {
        "id": "view-in-github",
        "colab_type": "text"
      },
      "source": [
        "<a href=\"https://colab.research.google.com/github/abuqaiselegant/100days/blob/main/AssignmentNottyGame.ipynb\" target=\"_parent\"><img src=\"https://colab.research.google.com/assets/colab-badge.svg\" alt=\"Open In Colab\"/></a>"
      ]
    },
    {
      "cell_type": "markdown",
      "source": [
        "EXERCISE 1"
      ],
      "metadata": {
        "id": "4n4xylUCxKtV"
      }
    },
    {
      "cell_type": "code",
      "execution_count": null,
      "metadata": {
        "id": "TnOUSZyPiSZr"
      },
      "outputs": [],
      "source": [
        "def verify_cards(colorNumCards):\n",
        "    validColors =[\"red\",\"blue\",\"green\",\"yellow\"] # valid Colours\n",
        "    validNum =[str(x) for x in range(1,11)] # valid Numbers\n",
        "\n",
        "    for card in colorNumCards: #itereating over the list of strings\n",
        "        if card.count(' ')!=1: #counting space as 1 should be there\n",
        "            return False\n",
        "        color,numStr = card.split(' ') # splitting the color and numebr in 2 variables\n",
        "        if color not in validColors or numStr not in validNum: # checking the color and number in their respective valid list\n",
        "            return False\n",
        "        if colorNumCards.count(card)>2: # there should be no more than 2 cards of same combination\n",
        "            return False\n",
        "    return True\n"
      ]
    },
    {
      "cell_type": "markdown",
      "source": [
        "TESTING 1ST EXERCISE"
      ],
      "metadata": {
        "id": "LroJdhhE1psx"
      }
    },
    {
      "cell_type": "code",
      "source": [
        "cards = [\"red 1\", \"blue 3\", \"green 9\", \"red 1\", \"yellow 10\", \"blue 3\"]\n",
        "result = verify_cards(cards)  # Returns True\n",
        "print(result)\n",
        "invalid_cards = [\"red 1\", \"blue 3\", \"green 4\", \"red 1\", \"red 1\"]\n",
        "result = verify_cards(invalid_cards)  # Returns False\n",
        "print(result)"
      ],
      "metadata": {
        "colab": {
          "base_uri": "https://localhost:8080/"
        },
        "id": "43E-WUxyl7Fl",
        "outputId": "ae52e0fa-11af-44c4-8ab7-8e7dc9526a5c"
      },
      "execution_count": null,
      "outputs": [
        {
          "output_type": "stream",
          "name": "stdout",
          "text": [
            "True\n",
            "False\n"
          ]
        }
      ]
    },
    {
      "cell_type": "markdown",
      "source": [
        "EXERCISE 2"
      ],
      "metadata": {
        "id": "2Fc559WixOXc"
      }
    },
    {
      "cell_type": "code",
      "source": [
        "class Card:\n",
        "    def __init__(self, colour, number):\n",
        "        assert isinstance(number, int)\n",
        "        self.colour = colour\n",
        "        self.number = number\n",
        "\n",
        "    def __str__(self):\n",
        "        return f'{self.colour} {self.number}'\n",
        "    def __repr__(self):\n",
        "        return f'Card(color=\"{self.colour}\", number={self.number})'\n",
        "\n",
        "class CollectionOfCards:\n",
        "    def __init__(self,cardStrings): # constructor that takes a list of strings as in ex 1\n",
        "        self.collection =[] # instance variable that stores list of card objects(color and num)\n",
        "        for card in cardStrings:\n",
        "            color,numStr = card.split()\n",
        "            cardObj = Card(color,int(numStr))\n",
        "            self.collection.append(cardObj)\n",
        "\n",
        "    def is_valid_group(self):\n",
        "        if len(self.collection)<3:\n",
        "            return False\n",
        "\n",
        "        #created a set of colors that do not store duplicate values\n",
        "        colorSet = set()\n",
        "        for card in self.collection:\n",
        "            colorSet.add(card.colour)\n",
        "\n",
        "        numbers = []\n",
        "        for card in self.collection:\n",
        "            numbers.append(card.number)\n",
        "        numbers.sort()\n",
        "\n",
        "        # if having same color\n",
        "        if len(colorSet)==1:\n",
        "            for i in range(len(numbers)-1):\n",
        "                if numbers[i]!=numbers[i+1]-1:\n",
        "                    return False\n",
        "            return True\n",
        "\n",
        "        # if haveing same number but different colors\n",
        "        if len(set(numbers))==1:\n",
        "            if len(colorSet)==len(self.collection):\n",
        "                return True\n",
        "        return False\n",
        "\n",
        "\n",
        "    def find_valid_group(self):\n",
        "        if len(self.collection)<3:\n",
        "            return None\n",
        "\n",
        "        colorSet = set()\n",
        "        for card in self.collection:\n",
        "            colorSet.add(card.colour)\n",
        "\n",
        "        numbers = []\n",
        "        for card in self.collection:\n",
        "            numbers.append(card.number)\n",
        "        numbers.sort()\n",
        "\n",
        "        # if having same color\n",
        "        if len(colorSet)==1:\n",
        "            colorName = colorSet.pop() #as elements in set can be indexed and here is only one element in set so i have just removed it\n",
        "            for i in range(len(numbers)-1):\n",
        "                if numbers[i]!=numbers[i+1]-1:\n",
        "                    return None\n",
        "\n",
        "            valid_cards =[]\n",
        "            for card in self.collection:\n",
        "                if card.colour == colorName :\n",
        "                    valid_cards.append(card)\n",
        "            return valid_cards\n",
        "\n",
        "        # if haveing same number but different colors\n",
        "        if len(set(numbers))==1:\n",
        "            if len(colorSet)!=len(self.collection):\n",
        "                return None\n",
        "            valid_cards =[]\n",
        "            for card in self.collection:\n",
        "                if card.number == numbers[0]:\n",
        "                    valid_cards.append(card)\n",
        "            return valid_cards\n",
        "        return None\n",
        "\n",
        "    def find_largest_valid_group(self):\n",
        "        largest_group = []\n",
        "        while self.collection:\n",
        "            valid_group = self.find_valid_group()\n",
        "            if valid_group:\n",
        "                if len(valid_group)> len(largest_group):\n",
        "                    largest_group = valid_group\n",
        "                for card in valid_group:\n",
        "                    self.collection.remove(card)\n",
        "            else:\n",
        "                break\n",
        "        return largest_group or None\n",
        "\n",
        "\n"
      ],
      "metadata": {
        "id": "NygNXZaUkhsP"
      },
      "execution_count": null,
      "outputs": []
    },
    {
      "cell_type": "code",
      "source": [
        "# Test case 1: Valid sequence of same color\n",
        "cards = [\"blue 4\", \"blue 5\", \"blue 6\",\"blue 7\"]\n",
        "collection = CollectionOfCards(cards)\n",
        "print(collection.is_valid_group())  # Output: True\n",
        "print(collection.find_valid_group())  # Output: [Card(color='blue', number=4), Card(color='blue', number=5), Card(color='blue', number=6)]\n",
        "print(collection.find_largest_valid_group())  # Output: [Card(color='blue', number=4), Card(color='blue', number=5), Card(color='blue', number=6)]\n",
        "\n",
        "# Test case 2: Valid set of same number\n",
        "cards = [\"blue 4\", \"red 4\", \"green 4\",\"yellow 4\"]\n",
        "collection = CollectionOfCards(cards)\n",
        "print(collection.is_valid_group())  # Output: True\n",
        "print(collection.find_valid_group())  # Output: [Card(color='blue', number=4), Card(color='red', number=4), Card(color='green', number=4)]\n",
        "print(collection.find_largest_valid_group())  # Output: [Card(color='blue', number=4), Card(color='red', number=4), Card(color='green', number=4)]\n",
        "\n",
        "# Test case 3: No valid group\n",
        "cards = [\"blue 4\", \"red 5\", \"green 6\"]\n",
        "collection = CollectionOfCards(cards)\n",
        "print(collection.is_valid_group())  # Output: False\n",
        "print(collection.find_valid_group())  # Output: None\n",
        "print(collection.find_largest_valid_group())  # Output: None\n",
        "\n"
      ],
      "metadata": {
        "colab": {
          "base_uri": "https://localhost:8080/"
        },
        "id": "tbYBveEJK-5e",
        "outputId": "0d6c10bf-a5d2-4b4c-8c5f-7af529de7504"
      },
      "execution_count": null,
      "outputs": [
        {
          "output_type": "stream",
          "name": "stdout",
          "text": [
            "True\n",
            "[Card(color=\"blue\", number=4), Card(color=\"blue\", number=5), Card(color=\"blue\", number=6), Card(color=\"blue\", number=7)]\n",
            "[Card(color=\"blue\", number=4), Card(color=\"blue\", number=5), Card(color=\"blue\", number=6), Card(color=\"blue\", number=7)]\n",
            "True\n",
            "[Card(color=\"blue\", number=4), Card(color=\"red\", number=4), Card(color=\"green\", number=4), Card(color=\"yellow\", number=4)]\n",
            "[Card(color=\"blue\", number=4), Card(color=\"red\", number=4), Card(color=\"green\", number=4), Card(color=\"yellow\", number=4)]\n",
            "False\n",
            "None\n",
            "None\n"
          ]
        }
      ]
    },
    {
      "cell_type": "markdown",
      "source": [
        "IS VALID GROUP HAVING PROBLEM WITH SOME TEST CASE OF MINE"
      ],
      "metadata": {
        "id": "qrV8_vlm1vWQ"
      }
    },
    {
      "cell_type": "code",
      "source": [
        "def is_valid_group():\n",
        "    if len(self.collection) < 3:\n",
        "        return False\n",
        "\n",
        "    colorSet = set()\n",
        "    for card in self.collection:\n",
        "        colorSet.add(card.colour)\n",
        "\n",
        "    numbers = []\n",
        "    for card in self.collection:\n",
        "        numbers.append(card.number)\n",
        "    numbers.sort()\n",
        "\n",
        "    # if having same color\n",
        "    if len(colorSet) == 1:\n",
        "        for i in range(len(numbers) - 1):\n",
        "            if numbers[i] != numbers[i+1] - 1:\n",
        "                return False\n",
        "        return True\n",
        "\n",
        "    # if having same number but different colors\n",
        "    if len(set(numbers)) == 1:\n",
        "        if len(colorSet) == len(self.collection):\n",
        "            return True\n",
        "    return False"
      ],
      "metadata": {
        "id": "c0XN28t4v0Cn"
      },
      "execution_count": null,
      "outputs": []
    },
    {
      "cell_type": "code",
      "source": [],
      "metadata": {
        "id": "0qH5sWfR11in"
      },
      "execution_count": null,
      "outputs": []
    },
    {
      "cell_type": "code",
      "source": [],
      "metadata": {
        "id": "TxBXaPx-11fu"
      },
      "execution_count": null,
      "outputs": []
    },
    {
      "cell_type": "code",
      "source": [],
      "metadata": {
        "id": "9v4s9uDT11bk"
      },
      "execution_count": null,
      "outputs": []
    },
    {
      "cell_type": "code",
      "source": [],
      "metadata": {
        "id": "PdJL4l4s11S9"
      },
      "execution_count": null,
      "outputs": []
    },
    {
      "cell_type": "markdown",
      "source": [
        "Alternate"
      ],
      "metadata": {
        "id": "eUJxxytrPaJk"
      }
    },
    {
      "cell_type": "code",
      "source": [
        "class Card:\n",
        "    def __init__(self, colour, number):\n",
        "        assert isinstance(number, int)\n",
        "        self.colour = colour\n",
        "        self.number = number\n",
        "\n",
        "    def __str__(self):\n",
        "        return f'{self.colour} {self.number}'\n",
        "    def __repr__(self):\n",
        "        return f'Card(color=\"{self.colour}\", number={self.number})'\n",
        "\n",
        "class CollectionOfCards:\n",
        "    def __init__(self,cardStrings):\n",
        "        self.collection =[]\n",
        "        for card in cardStrings:\n",
        "            color,numStr = card.split()\n",
        "            cardObj = Card(color,int(numStr))\n",
        "            self.collection.append(cardObj)\n",
        "\n",
        "    def is_valid_group(self):\n",
        "        if len(self.collection)<3:\n",
        "            return False\n",
        "\n",
        "        #created a set of colors that do not store duplicate values\n",
        "        colorSet = set()\n",
        "        for card in self.collection:\n",
        "            colorSet.add(card.colour)\n",
        "\n",
        "        numbers = []\n",
        "        for card in self.collection:\n",
        "            numbers.append(card.number)\n",
        "        numbers.sort()\n",
        "\n",
        "        # if having same color\n",
        "        if len(colorSet)==1:\n",
        "            for i in range(len(numbers)-1):\n",
        "                if numbers[i]!=numbers[i+1]-1:\n",
        "                    return False\n",
        "            return True\n",
        "\n",
        "        # if haveing same number but different colors\n",
        "        if len(set(numbers))==1:\n",
        "            if len(colorSet)==len(self.collection):\n",
        "                return True\n",
        "        return False\n",
        "\n",
        "\n",
        "    def find_valid_group(self):\n",
        "        if len(self.collection) < 3:\n",
        "            return None\n",
        "\n",
        "    # Get all colors and numbers\n",
        "        colors = [card.colour for card in self.collection]\n",
        "        numbers = [card.number for card in self.collection]\n",
        "\n",
        "    # Case 1: Check for same number, different colors\n",
        "        for num in set(numbers):\n",
        "        # Get all cards with the same number\n",
        "            same_number_cards = [card for card in self.collection if card.number == num]\n",
        "            if len(same_number_cards) >= 3:\n",
        "            # Check if all colors are different\n",
        "                color_set = set(card.colour for card in same_number_cards)\n",
        "                if len(color_set) == len(same_number_cards):\n",
        "                    return same_number_cards  # Return all cards with same number and different colors\n",
        "\n",
        "    # Case 2: Check for consecutive numbers, same color\n",
        "        for color in set(colors):\n",
        "        # Get all cards of this color\n",
        "            same_color_cards = [card for card in self.collection if card.colour == color]\n",
        "            if len(same_color_cards) >= 3:\n",
        "            # Sort by number\n",
        "                same_color_cards.sort(key=lambda x: x.number)\n",
        "            # Check for consecutive numbers\n",
        "                for i in range(len(same_color_cards) - 2):\n",
        "                    if (same_color_cards[i].number + 1 == same_color_cards[i+1].number and\n",
        "                        same_color_cards[i+1].number + 1 == same_color_cards[i+2].number):\n",
        "                        return same_color_cards[i:i+3]\n",
        "\n",
        "        return None\n",
        "\n",
        "    def find_largest_valid_group(self):\n",
        "        largest_group = []\n",
        "        while self.collection:\n",
        "            valid_group = self.find_valid_group()\n",
        "            if valid_group:\n",
        "                if len(valid_group)> len(largest_group):\n",
        "                    largest_group = valid_group\n",
        "                for card in valid_group:\n",
        "                    self.collection.remove(card)\n",
        "            else:\n",
        "                break\n",
        "        return largest_group or None\n",
        "\n",
        "\n"
      ],
      "metadata": {
        "id": "fd3kmZTKl2I1"
      },
      "execution_count": null,
      "outputs": []
    },
    {
      "cell_type": "code",
      "source": [
        "# Test case 1: Valid sequence of same color\n",
        "cards = [\"blue 4\", \"blue 5\", \"blue 6\"]\n",
        "collection = CollectionOfCards(cards)\n",
        "print(collection.is_valid_group())  # Output: True\n",
        "print(collection.find_valid_group())  # Output: [Card(color='blue', number=4), Card(color='blue', number=5), Card(color='blue', number=6)]\n",
        "print(collection.find_largest_valid_group())  # Output: [Card(color='blue', number=4), Card(color='blue', number=5), Card(color='blue', number=6)]\n",
        "\n",
        "# Test case 2: Valid set of same number\n",
        "cards = [\"blue 4\", \"red 4\", \"green 4\"]\n",
        "collection = CollectionOfCards(cards)\n",
        "print(collection.is_valid_group())  # Output: True\n",
        "print(collection.find_valid_group())  # Output: [Card(color='blue', number=4), Card(color='red', number=4), Card(color='green', number=4)]\n",
        "print(collection.find_largest_valid_group())  # Output: [Card(color='blue', number=4), Card(color='red', number=4), Card(color='green', number=4)]\n",
        "\n",
        "# Test case 3: No valid group\n",
        "cards = [\"blue 4\", \"red 5\", \"green 6\"]\n",
        "collection = CollectionOfCards(cards)\n",
        "print(collection.is_valid_group())  # Output: False\n",
        "print(collection.find_valid_group())  # Output: None\n",
        "print(collection.find_largest_valid_group())  # Output: None\n",
        "\n"
      ],
      "metadata": {
        "colab": {
          "base_uri": "https://localhost:8080/"
        },
        "id": "FrRPzvupO-Cn",
        "outputId": "1d133a2c-8074-4d43-beef-72818b0db19c"
      },
      "execution_count": null,
      "outputs": [
        {
          "output_type": "stream",
          "name": "stdout",
          "text": [
            "True\n",
            "[Card(color=\"blue\", number=4), Card(color=\"blue\", number=5), Card(color=\"blue\", number=6)]\n",
            "[Card(color=\"blue\", number=4), Card(color=\"blue\", number=5), Card(color=\"blue\", number=6)]\n",
            "True\n",
            "[Card(color=\"blue\", number=4), Card(color=\"red\", number=4), Card(color=\"green\", number=4)]\n",
            "[Card(color=\"blue\", number=4), Card(color=\"red\", number=4), Card(color=\"green\", number=4)]\n",
            "False\n",
            "None\n",
            "None\n"
          ]
        }
      ]
    },
    {
      "cell_type": "code",
      "source": [],
      "metadata": {
        "id": "GJWf86nKmsLn"
      },
      "execution_count": null,
      "outputs": []
    },
    {
      "cell_type": "markdown",
      "source": [
        "**ALTERNATE 2**"
      ],
      "metadata": {
        "id": "C3aN3Wnh1_ME"
      }
    },
    {
      "cell_type": "code",
      "source": [
        "class Card:\n",
        "    def __init__(self, colour, number):\n",
        "        assert isinstance(number, int)\n",
        "        self.colour = colour\n",
        "        self.number = number\n",
        "\n",
        "    def __str__(self):\n",
        "        return f'{self.colour} {self.number}'\n",
        "    def __repr__(self):\n",
        "        return f'Card(color=\"{self.colour}\", number={self.number})'\n",
        "\n",
        "class CollectionOfCards:\n",
        "    def __init__(self,cardStrings):\n",
        "        self.collection =[]\n",
        "        for card in cardStrings:\n",
        "            color,numStr = card.split()\n",
        "            cardObj = Card(color,int(numStr))\n",
        "            self.collection.append(cardObj)\n",
        "\n",
        "    def is_valid_group(self):\n",
        "        if len(self.collection) < 3:\n",
        "            return False\n",
        "\n",
        "    # Check for a run (same color, consecutive numbers)\n",
        "        color_groups = {}\n",
        "        for card in self.collection:\n",
        "            if card.colour not in color_groups:\n",
        "                color_groups[card.colour] = []\n",
        "            color_groups[card.colour].append(card.number)\n",
        "\n",
        "    # Check each color group for consecutive numbers\n",
        "        for numbers in color_groups.values():\n",
        "            if len(numbers) >= 3:\n",
        "                numbers.sort()\n",
        "                consecutive_count = 1\n",
        "                for i in range(len(numbers)-1):\n",
        "                    if numbers[i] + 1 == numbers[i+1]:\n",
        "                        consecutive_count += 1\n",
        "                        if consecutive_count >= 3:\n",
        "                            return True\n",
        "                    else:\n",
        "                        consecutive_count = 1\n",
        "\n",
        "    # Check for a set (same number, different colors)\n",
        "        number_groups = {}\n",
        "        for card in self.collection:\n",
        "            if card.number not in number_groups:\n",
        "                number_groups[card.number] = set()\n",
        "            number_groups[card.number].add(card.colour)\n",
        "\n",
        "     # Check if any number has 3 or more different colors\n",
        "        for colors in number_groups.values():\n",
        "            if len(colors) >= 3:\n",
        "                return True\n",
        "\n",
        "        return False\n",
        "\n",
        "\n",
        "    def find_valid_group(self):\n",
        "        if len(self.collection) < 3:\n",
        "            return None\n",
        "\n",
        "    # Get all colors and numbers\n",
        "        colors = [card.colour for card in self.collection]\n",
        "        numbers = [card.number for card in self.collection]\n",
        "\n",
        "    # Case 1: Check for same number, different colors\n",
        "        for num in set(numbers):\n",
        "        # Get all cards with the same number\n",
        "            same_number_cards = [card for card in self.collection if card.number == num]\n",
        "            if len(same_number_cards) >= 3:\n",
        "                return same_number_cards[:3]\n",
        "            \"\"\"{# Check if all colors are different\n",
        "                color_set = set(card.colour for card in same_number_cards)\n",
        "                if len(color_set) == len(same_number_cards):\n",
        "                    return same_number_cards  # Return all cards with same number and different colors}\"\"\"\n",
        "\n",
        "    # Case 2: Check for consecutive numbers, same color\n",
        "        for color in set(colors):\n",
        "        # Get all cards of this color\n",
        "            same_color_cards = [card for card in self.collection if card.colour == color]\n",
        "            if len(same_color_cards) >= 3:\n",
        "            # Sort by number\n",
        "                same_color_cards.sort(key=lambda x: x.number)\n",
        "            # Check for consecutive numbers\n",
        "                for i in range(len(same_color_cards) - 2):\n",
        "                    if (same_color_cards[i].number + 1 == same_color_cards[i+1].number and\n",
        "                        same_color_cards[i+1].number + 1 == same_color_cards[i+2].number):\n",
        "                        return same_color_cards[i:i+3]\n",
        "\n",
        "        return None\n",
        "\n",
        "    def find_largest_valid_group(self):\n",
        "        largest_group = []\n",
        "        while self.collection:\n",
        "            valid_group = self.find_valid_group()\n",
        "            if valid_group:\n",
        "                if len(valid_group)> len(largest_group):\n",
        "                    largest_group = valid_group\n",
        "                for card in valid_group:\n",
        "                    self.collection.remove(card)\n",
        "            else:\n",
        "                break\n",
        "        return largest_group or None\n",
        "\n"
      ],
      "metadata": {
        "id": "1bfYqLMRmsZ8"
      },
      "execution_count": null,
      "outputs": []
    },
    {
      "cell_type": "code",
      "source": [
        "# Test case 1: Valid sequence of same color\n",
        "cards = [\"blue 1\", \"blue 5\", \"blue 6\",\"blue 7\"]\n",
        "collection = CollectionOfCards(cards)\n",
        "print(collection.is_valid_group())  # Output: True\n",
        "print(collection.find_valid_group())  # Output: [Card(color='blue', number=4), Card(color='blue', number=5), Card(color='blue', number=6)]\n",
        "#print(collection.find_largest_valid_group())  # Output: [Card(color='blue', number=4), Card(color='blue', number=5), Card(color='blue', number=6)]\n",
        "\n",
        "print(\"\")\n",
        "\n",
        "# Test case 2: Valid set of same number\n",
        "cards = [\"blue 4\", \"red 4\", \"green 5\",\"red 6\"]\n",
        "collection = CollectionOfCards(cards)\n",
        "print(collection.is_valid_group())  # Output: True\n",
        "print(collection.find_valid_group())  # Output: [Card(color='blue', number=4), Card(color='red', number=4), Card(color='green', number=4)]\n",
        "#print(collection.find_largest_valid_group())  # Output: [Card(color='blue', number=4), Card(color='red', number=4), Card(color='green', number=4)]\n",
        "\n",
        "print(\"\")\n",
        "\n",
        "# Test case 3: No valid group\n",
        "cards = [\"blue 4\", \"red 5\", \"green 6\"]\n",
        "collection = CollectionOfCards(cards)\n",
        "print(collection.is_valid_group())  # Output: False\n",
        "print(collection.find_valid_group())  # Output: None\n",
        "#print(collection.find_largest_valid_group())  # Output: None\n",
        "\n"
      ],
      "metadata": {
        "colab": {
          "base_uri": "https://localhost:8080/"
        },
        "id": "J7jryzBc3LN9",
        "outputId": "42392c38-bd57-4f23-e7a1-a98df40f2bcd"
      },
      "execution_count": null,
      "outputs": [
        {
          "output_type": "stream",
          "name": "stdout",
          "text": [
            "True\n",
            "[Card(color=\"blue\", number=5), Card(color=\"blue\", number=6), Card(color=\"blue\", number=7)]\n",
            "\n",
            "False\n",
            "None\n",
            "\n",
            "False\n",
            "None\n"
          ]
        }
      ]
    },
    {
      "cell_type": "code",
      "source": [],
      "metadata": {
        "id": "n5kgrTqf3LAn"
      },
      "execution_count": null,
      "outputs": []
    },
    {
      "cell_type": "markdown",
      "source": [
        "ROUGH"
      ],
      "metadata": {
        "id": "NlDJxUob18kn"
      }
    },
    {
      "cell_type": "code",
      "source": [],
      "metadata": {
        "id": "d-ayYRTmmsk2"
      },
      "execution_count": null,
      "outputs": []
    },
    {
      "cell_type": "code",
      "source": [
        "# Example 1: Valid sequence of same color\n",
        "cards = [\"blue 4\", \"blue 5\", \"blue 6\"]\n",
        "collection = CollectionOfCards(cards)\n",
        "l = collection.find_valid_group()\n",
        "for i in l :\n",
        "\n",
        "\n",
        "# Example 2: Valid same number different colors\n",
        "cards = [\"blue 4\", \"red 4\", \"green 4\"]\n",
        "collection = CollectionOfCards(cards)\n",
        "print(collection.find_valid_group)  # True\n",
        "\n",
        "# Example 3: Invalid due to repeated color\n",
        "cards = [\"blue 4\", \"blue 4\", \"red 4\"]\n",
        "collection = CollectionOfCards(cards)\n",
        "print(collection.find_valid_group)  # True"
      ],
      "metadata": {
        "colab": {
          "base_uri": "https://localhost:8080/",
          "height": 251
        },
        "id": "wCITuhQqr_dC",
        "outputId": "61609d51-5b87-457f-e711-d9c8a6338b61"
      },
      "execution_count": null,
      "outputs": [
        {
          "output_type": "error",
          "ename": "TypeError",
          "evalue": "list indices must be integers or slices, not Card",
          "traceback": [
            "\u001b[0;31m---------------------------------------------------------------------------\u001b[0m",
            "\u001b[0;31mTypeError\u001b[0m                                 Traceback (most recent call last)",
            "\u001b[0;32m<ipython-input-32-32ddf2f875d3>\u001b[0m in \u001b[0;36m<cell line: 5>\u001b[0;34m()\u001b[0m\n\u001b[1;32m      4\u001b[0m \u001b[0ml\u001b[0m \u001b[0;34m=\u001b[0m \u001b[0mcollection\u001b[0m\u001b[0;34m.\u001b[0m\u001b[0mfind_valid_group\u001b[0m\u001b[0;34m(\u001b[0m\u001b[0;34m)\u001b[0m\u001b[0;34m\u001b[0m\u001b[0;34m\u001b[0m\u001b[0m\n\u001b[1;32m      5\u001b[0m \u001b[0;32mfor\u001b[0m \u001b[0mi\u001b[0m \u001b[0;32min\u001b[0m \u001b[0ml\u001b[0m \u001b[0;34m:\u001b[0m\u001b[0;34m\u001b[0m\u001b[0;34m\u001b[0m\u001b[0m\n\u001b[0;32m----> 6\u001b[0;31m     \u001b[0mprint\u001b[0m\u001b[0;34m(\u001b[0m\u001b[0ml\u001b[0m\u001b[0;34m[\u001b[0m\u001b[0mi\u001b[0m\u001b[0;34m]\u001b[0m\u001b[0;34m)\u001b[0m\u001b[0;34m\u001b[0m\u001b[0;34m\u001b[0m\u001b[0m\n\u001b[0m\u001b[1;32m      7\u001b[0m \u001b[0;34m\u001b[0m\u001b[0m\n\u001b[1;32m      8\u001b[0m \u001b[0;31m# Example 2: Valid same number different colors\u001b[0m\u001b[0;34m\u001b[0m\u001b[0;34m\u001b[0m\u001b[0m\n",
            "\u001b[0;31mTypeError\u001b[0m: list indices must be integers or slices, not Card"
          ]
        }
      ]
    },
    {
      "cell_type": "code",
      "source": [],
      "metadata": {
        "id": "XDR1y9q9O8ha"
      },
      "execution_count": null,
      "outputs": []
    },
    {
      "cell_type": "code",
      "source": [
        "# Example 1: Valid sequence of same color\n",
        "cards = [\"blue 4\", \"blue 5\", \"blue 6\"]\n",
        "collection = CollectionOfCards(cards)\n",
        "print(collection.is_valid_group())  # True\n",
        "\n",
        "# Example 2: Valid same number different colors\n",
        "cards = [\"blue 4\", \"red 4\", \"green 4\"]\n",
        "collection = CollectionOfCards(cards)\n",
        "print(collection.is_valid_group())  # True\n",
        "\n",
        "# Example 3: Invalid due to repeated color\n",
        "cards = [\"blue 4\", \"blue 4\", \"red 4\"]\n",
        "collection = CollectionOfCards(cards)\n",
        "print(collection.is_valid_group())  # False"
      ],
      "metadata": {
        "colab": {
          "base_uri": "https://localhost:8080/"
        },
        "id": "OrG-WdasKLWN",
        "outputId": "c03ee683-a9fd-4a81-eeea-949e2146e19a"
      },
      "execution_count": null,
      "outputs": [
        {
          "output_type": "stream",
          "name": "stdout",
          "text": [
            "True\n",
            "True\n",
            "False\n"
          ]
        }
      ]
    },
    {
      "cell_type": "code",
      "source": [
        "card_groups = {}\n",
        "        for card in self.collection:\n",
        "            key = (card.number, card.colour)\n",
        "            if key not in card_groups:\n",
        "                card_groups[key] = []\n",
        "            card_groups[key].append(card)\n",
        "\n",
        "        for group in card_groups.values():\n",
        "            if len(group)>=3:\n",
        "                if len()"
      ],
      "metadata": {
        "colab": {
          "base_uri": "https://localhost:8080/"
        },
        "id": "GADwoo3Hkkwb",
        "outputId": "fd33d810-715c-4e29-f0ae-6675e2c2caed"
      },
      "execution_count": null,
      "outputs": [
        {
          "output_type": "execute_result",
          "data": {
            "text/plain": [
              "3"
            ]
          },
          "metadata": {},
          "execution_count": 4
        }
      ]
    },
    {
      "cell_type": "code",
      "source": [
        "card_counts = {}\n",
        "        for card in self.collection:\n",
        "            key = (card.colour, str(card.number))\n",
        "            card_counts[key] = card_counts.get(key, 0) + 1"
      ],
      "metadata": {
        "id": "n01ecau-lKg4"
      },
      "execution_count": null,
      "outputs": []
    },
    {
      "cell_type": "code",
      "source": [
        "class Card:\n",
        "    def __init__(self, colour, number):  # Note: using 'colour' instead of 'color'\n",
        "        self.colour = colour\n",
        "        self.number = number\n",
        "\n",
        "class Test:\n",
        "    def __init__(self, collection):\n",
        "        self.collection = collection\n",
        "\n",
        "    def find_valid_group(self):\n",
        "        if len(self.collection)<3:\n",
        "            return None\n",
        "\n",
        "        colorSet = set()\n",
        "        for card in self.collection:\n",
        "            colorSet.add(card.colour)\n",
        "\n",
        "        numbers = []\n",
        "        for card in self.collection:\n",
        "            numbers.append(card.number)\n",
        "        numbers.sort()\n",
        "\n",
        "        # if having same color\n",
        "        if len(colorSet)==1:\n",
        "            colorName = colorSet.pop()\n",
        "            for i in range(len(numbers)-1):\n",
        "                if numbers[i]!=numbers[i+1]-1:\n",
        "                    return None\n",
        "\n",
        "            valid_cards =[]\n",
        "            for card in self.collection:\n",
        "                if card.colour == colorName:\n",
        "                    valid_cards.append(card)\n",
        "            return valid_cards\n",
        "\n",
        "        # if having same number but different colors\n",
        "        if len(set(numbers))==1:\n",
        "            if len(colorSet)!=len(self.collection):\n",
        "                return None\n",
        "            valid_cards =[]\n",
        "            for card in self.collection:\n",
        "                if card.number == numbers[0]:\n",
        "                    valid_cards.append(card)\n",
        "            return valid_cards\n",
        "        return None\n",
        "\n",
        "# Test cases\n",
        "def run_tests():\n",
        "    test_cases = [\n",
        "        # Test Case 1: Valid sequence of same color\n",
        "        (\"Valid sequence - same color\", [\n",
        "            Card(\"red\", 1), Card(\"red\", 2), Card(\"red\", 3)\n",
        "        ]),\n",
        "\n",
        "        # Test Case 2: Valid set of same number\n",
        "        (\"Valid set - same number\", [\n",
        "            Card(\"red\", 5), Card(\"blue\", 5), Card(\"green\", 5)\n",
        "        ]),\n",
        "\n",
        "        # Test Case 3: Invalid - less than 3 cards\n",
        "        (\"Invalid - too few cards\", [\n",
        "            Card(\"red\", 1), Card(\"red\", 2)\n",
        "        ]),\n",
        "\n",
        "        # Test Case 4: Invalid - non-consecutive numbers\n",
        "        (\"Invalid - non-consecutive\", [\n",
        "            Card(\"red\", 1), Card(\"red\", 3), Card(\"red\", 4)\n",
        "        ]),\n",
        "\n",
        "        # Test Case 5: Invalid - duplicate colors with same number\n",
        "        (\"Invalid - duplicate colors\", [\n",
        "            Card(\"red\", 5), Card(\"blue\", 5), Card(\"blue\", 5)\n",
        "        ]),\n",
        "\n",
        "        # Test Case 6: Valid longer sequence\n",
        "        (\"Valid longer sequence\", [\n",
        "            Card(\"blue\", 1), Card(\"blue\", 2), Card(\"blue\", 3), Card(\"blue\", 4)\n",
        "        ]),\n",
        "\n",
        "        # Test Case 7: Invalid - mixed colors and numbers\n",
        "        (\"Invalid - mixed\", [\n",
        "            Card(\"red\", 1), Card(\"blue\", 2), Card(\"green\", 3)\n",
        "        ])\n",
        "    ]\n",
        "\n",
        "    for test_name, collection in test_cases:\n",
        "        result = Test(collection).find_valid_group()\n",
        "        print(f\"\\n{test_name}:\")\n",
        "        print(\"Input:\", [(card.colour, card.number) for card in collection])\n",
        "        print(\"Result:\", None if result is None else [(card.colour, card.number) for card in result])\n",
        "\n",
        "# Run the tests\n",
        "if __name__ == \"__main__\":\n",
        "    run_tests()"
      ],
      "metadata": {
        "id": "CHFIQCYxt8WQ",
        "outputId": "479a488d-f189-4987-eb42-7b2da1727cf2",
        "colab": {
          "base_uri": "https://localhost:8080/"
        }
      },
      "execution_count": null,
      "outputs": [
        {
          "output_type": "stream",
          "name": "stdout",
          "text": [
            "\n",
            "Valid sequence - same color:\n",
            "Input: [('red', 1), ('red', 2), ('red', 3)]\n",
            "Result: [('red', 1), ('red', 2), ('red', 3)]\n",
            "\n",
            "Valid set - same number:\n",
            "Input: [('red', 5), ('blue', 5), ('green', 5)]\n",
            "Result: [('red', 5), ('blue', 5), ('green', 5)]\n",
            "\n",
            "Invalid - too few cards:\n",
            "Input: [('red', 1), ('red', 2)]\n",
            "Result: None\n",
            "\n",
            "Invalid - non-consecutive:\n",
            "Input: [('red', 1), ('red', 3), ('red', 4)]\n",
            "Result: None\n",
            "\n",
            "Invalid - duplicate colors:\n",
            "Input: [('red', 5), ('blue', 5), ('blue', 5)]\n",
            "Result: None\n",
            "\n",
            "Valid longer sequence:\n",
            "Input: [('blue', 1), ('blue', 2), ('blue', 3), ('blue', 4)]\n",
            "Result: [('blue', 1), ('blue', 2), ('blue', 3), ('blue', 4)]\n",
            "\n",
            "Invalid - mixed:\n",
            "Input: [('red', 1), ('blue', 2), ('green', 3)]\n",
            "Result: None\n"
          ]
        }
      ]
    },
    {
      "cell_type": "code",
      "source": [],
      "metadata": {
        "id": "pYFnMTbkt9Bo"
      },
      "execution_count": null,
      "outputs": []
    }
  ]
}