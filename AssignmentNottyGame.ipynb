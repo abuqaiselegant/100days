{
  "nbformat": 4,
  "nbformat_minor": 0,
  "metadata": {
    "colab": {
      "provenance": [],
      "authorship_tag": "ABX9TyPdvwSvtkkI/l2RV5KqPgl5",
      "include_colab_link": true
    },
    "kernelspec": {
      "name": "python3",
      "display_name": "Python 3"
    },
    "language_info": {
      "name": "python"
    }
  },
  "cells": [
    {
      "cell_type": "markdown",
      "metadata": {
        "id": "view-in-github",
        "colab_type": "text"
      },
      "source": [
        "<a href=\"https://colab.research.google.com/github/abuqaiselegant/100days/blob/main/AssignmentNottyGame.ipynb\" target=\"_parent\"><img src=\"https://colab.research.google.com/assets/colab-badge.svg\" alt=\"Open In Colab\"/></a>"
      ]
    },
    {
      "cell_type": "markdown",
      "source": [
        "EXERCISE 1"
      ],
      "metadata": {
        "id": "4n4xylUCxKtV"
      }
    },
    {
      "cell_type": "code",
      "execution_count": null,
      "metadata": {
        "id": "TnOUSZyPiSZr"
      },
      "outputs": [],
      "source": [
        "def verify_cards(colorNumCards):\n",
        "    validColors =[\"red\",\"blue\",\"green\", \"yellow\"]\n",
        "    validNum =[str(x) for x in range(1,11)]\n",
        "\n",
        "    for card in colorNumCards:\n",
        "        if card.count(' ')!=1:\n",
        "            return False\n",
        "        color,numStr = card.split(' ')\n",
        "        if color not in validColors or numStr not in validNum:\n",
        "            return False\n",
        "        if colorNumCards.count(card)>2:\n",
        "            return False\n",
        "    return True\n"
      ]
    },
    {
      "cell_type": "code",
      "source": [
        "cards = [\"red 1\", \"blue 3\", \"green 9\", \"red 1\", \"yellow 10\", \"blue 3\"]\n",
        "result = verify_cards(cards)  # Returns True\n",
        "print(result)\n",
        "invalid_cards = [\"red 1\", \"blue 3\", \"green 4\", \"red 1\", \"red 1\"]\n",
        "result = verify_cards(invalid_cards)  # Returns False\n",
        "print(result)"
      ],
      "metadata": {
        "colab": {
          "base_uri": "https://localhost:8080/"
        },
        "id": "43E-WUxyl7Fl",
        "outputId": "f61a5cfc-cc1e-492a-f109-8bc374894742"
      },
      "execution_count": null,
      "outputs": [
        {
          "output_type": "stream",
          "name": "stdout",
          "text": [
            "True\n",
            "False\n"
          ]
        }
      ]
    },
    {
      "cell_type": "markdown",
      "source": [
        "EXERCISE 2"
      ],
      "metadata": {
        "id": "2Fc559WixOXc"
      }
    },
    {
      "cell_type": "code",
      "source": [
        "class Card:\n",
        "    def __init__(self, colour, number):\n",
        "        assert isinstance(number, int)\n",
        "        self.colour = colour\n",
        "        self.number = number\n",
        "\n",
        "    def __str__(self):\n",
        "        return f'{self.colour} {self.number}'\n",
        "\n",
        "class CollectionOfCards:\n",
        "    def __init__(self,cardStrings):\n",
        "        self.collection =[]\n",
        "        for card in cardStrings:\n",
        "            color,numStr = card.split()\n",
        "            cardObj = Card(color,int(numStr))\n",
        "            self.collection.append(cardObj)\n",
        "\n",
        "    def is_valid_group(self):\n",
        "        if len(self.collection)<3:\n",
        "            return False\n",
        "\n",
        "        #created a set of colors that do not store duplicate values\n",
        "        colorSet = set()\n",
        "        for card in self.collection:\n",
        "            colorSet.add(card.colour)\n",
        "\n",
        "        numbers = []\n",
        "        for card in self.collection:\n",
        "            numbers.append(card.number)\n",
        "        numbers.sort()\n",
        "\n",
        "        # if having same color\n",
        "        if len(colorSet)==1:\n",
        "            for i in range(len(numbers)-1):\n",
        "                if numbers[i]!=numbers[i+1]-1:\n",
        "                    return False\n",
        "            return True\n",
        "\n",
        "        # if haveing same number but different colors\n",
        "        if len(set(numbers))==1:\n",
        "            if len(colorSet)==len(self.collection):\n",
        "                return True\n",
        "        return False\n",
        "\n",
        "\n",
        "    def find_valid_group(self):\n",
        "        if len(self.collection)<3:\n",
        "            return None\n",
        "\n",
        "        colorSet = set()\n",
        "        for card in self.collection:\n",
        "            colorSet.add(card.colour)\n",
        "\n",
        "        numbers = []\n",
        "        for card in self.collection:\n",
        "            numbers.append(card.number)\n",
        "        numbers.sort()\n",
        "\n",
        "        # if having same color\n",
        "        if len(colorSet)==1:\n",
        "            colorName = colorSet.pop() #as elements in set can be indexed and here is only one element in set so i have just removed it\n",
        "            for i in range(len(numbers)-1):\n",
        "                if numbers[i]!=numbers[i+1]-1:\n",
        "                    return None\n",
        "\n",
        "            valid_cards =[]\n",
        "            for card in self.collection:\n",
        "                if card.colour == colorName :\n",
        "                    valid_cards.append(card)\n",
        "            return valid_cards\n",
        "\n",
        "        # if haveing same number but different colors\n",
        "        if len(set(numbers))==1:\n",
        "            if len(colorSet)!=len(self.collection):\n",
        "                return None\n",
        "            valid_cards =[]\n",
        "            for card in self.collection:\n",
        "                if card.number == numbers[0]:\n",
        "                    valid_cards.append(card)\n",
        "            return valid_cards\n",
        "        return None\n",
        "\n",
        "\n",
        "\n",
        "\n"
      ],
      "metadata": {
        "id": "NygNXZaUkhsP"
      },
      "execution_count": null,
      "outputs": []
    },
    {
      "cell_type": "code",
      "source": [
        "# Example 1: Valid sequence of same color\n",
        "cards = [\"blue 4\", \"blue 5\", \"blue 6\"]\n",
        "collection = CollectionOfCards(cards)\n",
        "l = collection.find_valid_group()\n",
        "for i in l :\n",
        "\n",
        "\n",
        "# Example 2: Valid same number different colors\n",
        "cards = [\"blue 4\", \"red 4\", \"green 4\"]\n",
        "collection = CollectionOfCards(cards)\n",
        "print(collection.find_valid_group)  # True\n",
        "\n",
        "# Example 3: Invalid due to repeated color\n",
        "cards = [\"blue 4\", \"blue 4\", \"red 4\"]\n",
        "collection = CollectionOfCards(cards)\n",
        "print(collection.find_valid_group)  # True"
      ],
      "metadata": {
        "colab": {
          "base_uri": "https://localhost:8080/",
          "height": 251
        },
        "id": "wCITuhQqr_dC",
        "outputId": "61609d51-5b87-457f-e711-d9c8a6338b61"
      },
      "execution_count": null,
      "outputs": [
        {
          "output_type": "error",
          "ename": "TypeError",
          "evalue": "list indices must be integers or slices, not Card",
          "traceback": [
            "\u001b[0;31m---------------------------------------------------------------------------\u001b[0m",
            "\u001b[0;31mTypeError\u001b[0m                                 Traceback (most recent call last)",
            "\u001b[0;32m<ipython-input-32-32ddf2f875d3>\u001b[0m in \u001b[0;36m<cell line: 5>\u001b[0;34m()\u001b[0m\n\u001b[1;32m      4\u001b[0m \u001b[0ml\u001b[0m \u001b[0;34m=\u001b[0m \u001b[0mcollection\u001b[0m\u001b[0;34m.\u001b[0m\u001b[0mfind_valid_group\u001b[0m\u001b[0;34m(\u001b[0m\u001b[0;34m)\u001b[0m\u001b[0;34m\u001b[0m\u001b[0;34m\u001b[0m\u001b[0m\n\u001b[1;32m      5\u001b[0m \u001b[0;32mfor\u001b[0m \u001b[0mi\u001b[0m \u001b[0;32min\u001b[0m \u001b[0ml\u001b[0m \u001b[0;34m:\u001b[0m\u001b[0;34m\u001b[0m\u001b[0;34m\u001b[0m\u001b[0m\n\u001b[0;32m----> 6\u001b[0;31m     \u001b[0mprint\u001b[0m\u001b[0;34m(\u001b[0m\u001b[0ml\u001b[0m\u001b[0;34m[\u001b[0m\u001b[0mi\u001b[0m\u001b[0;34m]\u001b[0m\u001b[0;34m)\u001b[0m\u001b[0;34m\u001b[0m\u001b[0;34m\u001b[0m\u001b[0m\n\u001b[0m\u001b[1;32m      7\u001b[0m \u001b[0;34m\u001b[0m\u001b[0m\n\u001b[1;32m      8\u001b[0m \u001b[0;31m# Example 2: Valid same number different colors\u001b[0m\u001b[0;34m\u001b[0m\u001b[0;34m\u001b[0m\u001b[0m\n",
            "\u001b[0;31mTypeError\u001b[0m: list indices must be integers or slices, not Card"
          ]
        }
      ]
    },
    {
      "cell_type": "code",
      "source": [
        "# Example 1: Valid sequence of same color\n",
        "cards = [\"blue 4\", \"blue 5\", \"blue 6\"]\n",
        "collection = CollectionOfCards(cards)\n",
        "print(collection.is_valid_group())  # True\n",
        "\n",
        "# Example 2: Valid same number different colors\n",
        "cards = [\"blue 4\", \"red 4\", \"green 4\"]\n",
        "collection = CollectionOfCards(cards)\n",
        "print(collection.is_valid_group())  # True\n",
        "\n",
        "# Example 3: Invalid due to repeated color\n",
        "cards = [\"blue 4\", \"blue 4\", \"red 4\"]\n",
        "collection = CollectionOfCards(cards)\n",
        "print(collection.is_valid_group())  # False"
      ],
      "metadata": {
        "colab": {
          "base_uri": "https://localhost:8080/"
        },
        "id": "OrG-WdasKLWN",
        "outputId": "c03ee683-a9fd-4a81-eeea-949e2146e19a"
      },
      "execution_count": null,
      "outputs": [
        {
          "output_type": "stream",
          "name": "stdout",
          "text": [
            "True\n",
            "True\n",
            "False\n"
          ]
        }
      ]
    },
    {
      "cell_type": "code",
      "source": [
        "card_groups = {}\n",
        "        for card in self.collection:\n",
        "            key = (card.number, card.colour)\n",
        "            if key not in card_groups:\n",
        "                card_groups[key] = []\n",
        "            card_groups[key].append(card)\n",
        "\n",
        "        for group in card_groups.values():\n",
        "            if len(group)>=3:\n",
        "                if len()"
      ],
      "metadata": {
        "colab": {
          "base_uri": "https://localhost:8080/"
        },
        "id": "GADwoo3Hkkwb",
        "outputId": "fd33d810-715c-4e29-f0ae-6675e2c2caed"
      },
      "execution_count": null,
      "outputs": [
        {
          "output_type": "execute_result",
          "data": {
            "text/plain": [
              "3"
            ]
          },
          "metadata": {},
          "execution_count": 4
        }
      ]
    },
    {
      "cell_type": "code",
      "source": [
        "card_counts = {}\n",
        "        for card in self.collection:\n",
        "            key = (card.colour, str(card.number))\n",
        "            card_counts[key] = card_counts.get(key, 0) + 1"
      ],
      "metadata": {
        "id": "n01ecau-lKg4"
      },
      "execution_count": null,
      "outputs": []
    },
    {
      "cell_type": "code",
      "source": [
        "class Card:\n",
        "    def __init__(self, colour, number):  # Note: using 'colour' instead of 'color'\n",
        "        self.colour = colour\n",
        "        self.number = number\n",
        "\n",
        "class Test:\n",
        "    def __init__(self, collection):\n",
        "        self.collection = collection\n",
        "\n",
        "    def find_valid_group(self):\n",
        "        if len(self.collection)<3:\n",
        "            return None\n",
        "\n",
        "        colorSet = set()\n",
        "        for card in self.collection:\n",
        "            colorSet.add(card.colour)\n",
        "\n",
        "        numbers = []\n",
        "        for card in self.collection:\n",
        "            numbers.append(card.number)\n",
        "        numbers.sort()\n",
        "\n",
        "        # if having same color\n",
        "        if len(colorSet)==1:\n",
        "            colorName = colorSet.pop()\n",
        "            for i in range(len(numbers)-1):\n",
        "                if numbers[i]!=numbers[i+1]-1:\n",
        "                    return None\n",
        "\n",
        "            valid_cards =[]\n",
        "            for card in self.collection:\n",
        "                if card.colour == colorName:\n",
        "                    valid_cards.append(card)\n",
        "            return valid_cards\n",
        "\n",
        "        # if having same number but different colors\n",
        "        if len(set(numbers))==1:\n",
        "            if len(colorSet)!=len(self.collection):\n",
        "                return None\n",
        "            valid_cards =[]\n",
        "            for card in self.collection:\n",
        "                if card.number == numbers[0]:\n",
        "                    valid_cards.append(card)\n",
        "            return valid_cards\n",
        "        return None\n",
        "\n",
        "# Test cases\n",
        "def run_tests():\n",
        "    test_cases = [\n",
        "        # Test Case 1: Valid sequence of same color\n",
        "        (\"Valid sequence - same color\", [\n",
        "            Card(\"red\", 1), Card(\"red\", 2), Card(\"red\", 3)\n",
        "        ]),\n",
        "\n",
        "        # Test Case 2: Valid set of same number\n",
        "        (\"Valid set - same number\", [\n",
        "            Card(\"red\", 5), Card(\"blue\", 5), Card(\"green\", 5)\n",
        "        ]),\n",
        "\n",
        "        # Test Case 3: Invalid - less than 3 cards\n",
        "        (\"Invalid - too few cards\", [\n",
        "            Card(\"red\", 1), Card(\"red\", 2)\n",
        "        ]),\n",
        "\n",
        "        # Test Case 4: Invalid - non-consecutive numbers\n",
        "        (\"Invalid - non-consecutive\", [\n",
        "            Card(\"red\", 1), Card(\"red\", 3), Card(\"red\", 4)\n",
        "        ]),\n",
        "\n",
        "        # Test Case 5: Invalid - duplicate colors with same number\n",
        "        (\"Invalid - duplicate colors\", [\n",
        "            Card(\"red\", 5), Card(\"blue\", 5), Card(\"blue\", 5)\n",
        "        ]),\n",
        "\n",
        "        # Test Case 6: Valid longer sequence\n",
        "        (\"Valid longer sequence\", [\n",
        "            Card(\"blue\", 1), Card(\"blue\", 2), Card(\"blue\", 3), Card(\"blue\", 4)\n",
        "        ]),\n",
        "\n",
        "        # Test Case 7: Invalid - mixed colors and numbers\n",
        "        (\"Invalid - mixed\", [\n",
        "            Card(\"red\", 1), Card(\"blue\", 2), Card(\"green\", 3)\n",
        "        ])\n",
        "    ]\n",
        "\n",
        "    for test_name, collection in test_cases:\n",
        "        result = Test(collection).find_valid_group()\n",
        "        print(f\"\\n{test_name}:\")\n",
        "        print(\"Input:\", [(card.colour, card.number) for card in collection])\n",
        "        print(\"Result:\", None if result is None else [(card.colour, card.number) for card in result])\n",
        "\n",
        "# Run the tests\n",
        "if __name__ == \"__main__\":\n",
        "    run_tests()"
      ],
      "metadata": {
        "id": "CHFIQCYxt8WQ",
        "outputId": "479a488d-f189-4987-eb42-7b2da1727cf2",
        "colab": {
          "base_uri": "https://localhost:8080/"
        }
      },
      "execution_count": null,
      "outputs": [
        {
          "output_type": "stream",
          "name": "stdout",
          "text": [
            "\n",
            "Valid sequence - same color:\n",
            "Input: [('red', 1), ('red', 2), ('red', 3)]\n",
            "Result: [('red', 1), ('red', 2), ('red', 3)]\n",
            "\n",
            "Valid set - same number:\n",
            "Input: [('red', 5), ('blue', 5), ('green', 5)]\n",
            "Result: [('red', 5), ('blue', 5), ('green', 5)]\n",
            "\n",
            "Invalid - too few cards:\n",
            "Input: [('red', 1), ('red', 2)]\n",
            "Result: None\n",
            "\n",
            "Invalid - non-consecutive:\n",
            "Input: [('red', 1), ('red', 3), ('red', 4)]\n",
            "Result: None\n",
            "\n",
            "Invalid - duplicate colors:\n",
            "Input: [('red', 5), ('blue', 5), ('blue', 5)]\n",
            "Result: None\n",
            "\n",
            "Valid longer sequence:\n",
            "Input: [('blue', 1), ('blue', 2), ('blue', 3), ('blue', 4)]\n",
            "Result: [('blue', 1), ('blue', 2), ('blue', 3), ('blue', 4)]\n",
            "\n",
            "Invalid - mixed:\n",
            "Input: [('red', 1), ('blue', 2), ('green', 3)]\n",
            "Result: None\n"
          ]
        }
      ]
    },
    {
      "cell_type": "code",
      "source": [],
      "metadata": {
        "id": "pYFnMTbkt9Bo"
      },
      "execution_count": null,
      "outputs": []
    }
  ]
}