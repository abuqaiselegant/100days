{
  "nbformat": 4,
  "nbformat_minor": 0,
  "metadata": {
    "colab": {
      "provenance": [],
      "authorship_tag": "ABX9TyORV/fzmopPxjmJh12gehl2",
      "include_colab_link": true
    },
    "kernelspec": {
      "name": "python3",
      "display_name": "Python 3"
    },
    "language_info": {
      "name": "python"
    }
  },
  "cells": [
    {
      "cell_type": "markdown",
      "metadata": {
        "id": "view-in-github",
        "colab_type": "text"
      },
      "source": [
        "<a href=\"https://colab.research.google.com/github/abuqaiselegant/100days/blob/main/AssignmentNottyGame.ipynb\" target=\"_parent\"><img src=\"https://colab.research.google.com/assets/colab-badge.svg\" alt=\"Open In Colab\"/></a>"
      ]
    },
    {
      "cell_type": "markdown",
      "source": [
        "EXERCISE 1"
      ],
      "metadata": {
        "id": "4n4xylUCxKtV"
      }
    },
    {
      "cell_type": "code",
      "execution_count": null,
      "metadata": {
        "id": "TnOUSZyPiSZr"
      },
      "outputs": [],
      "source": [
        "def verify_cards(colorNumCards):\n",
        "    validColors =[\"red\",\"blue\",\"green\", \"yellow\"]\n",
        "    validNum =[str(x) for x in range(1,11)]\n",
        "\n",
        "    for card in colorNumCards:\n",
        "        if card.count(' ')!=1:\n",
        "            return False\n",
        "        color,numStr = card.split(' ')\n",
        "        if color not in validColors or numStr not in validNum:\n",
        "            return False\n",
        "        if colorNumCards.count(card)>2:\n",
        "            return False\n",
        "    return True\n"
      ]
    },
    {
      "cell_type": "code",
      "source": [
        "cards = [\"red 1\", \"blue 3\", \"green 9\", \"red 1\", \"yellow 10\", \"blue 3\"]\n",
        "result = verify_cards(cards)  # Returns True\n",
        "print(result)\n",
        "invalid_cards = [\"red 1\", \"blue 3\", \"green 4\", \"red 1\", \"red 1\"]\n",
        "result = verify_cards(invalid_cards)  # Returns False\n",
        "print(result)"
      ],
      "metadata": {
        "colab": {
          "base_uri": "https://localhost:8080/"
        },
        "id": "43E-WUxyl7Fl",
        "outputId": "f61a5cfc-cc1e-492a-f109-8bc374894742"
      },
      "execution_count": null,
      "outputs": [
        {
          "output_type": "stream",
          "name": "stdout",
          "text": [
            "True\n",
            "False\n"
          ]
        }
      ]
    },
    {
      "cell_type": "markdown",
      "source": [
        "EXERCISE 2"
      ],
      "metadata": {
        "id": "2Fc559WixOXc"
      }
    },
    {
      "cell_type": "code",
      "source": [
        "class Card:\n",
        "    def __init__(self, colour, number):\n",
        "        assert isinstance(number, int)\n",
        "        self.colour = colour\n",
        "        self.number = number\n",
        "\n",
        "    def __str__(self):\n",
        "        return f'{self.colour} {self.number}'\n",
        "\n",
        "class CollectionOfCards:\n",
        "    def __init__(self,cardStrings):\n",
        "        self.collection =[]\n",
        "        for card in cardStrings:\n",
        "            color,numStr = card.split()\n",
        "            cardObj = Card(color,int(numStr))\n",
        "            self.collection.append(cardObj)\n",
        "\n",
        "    def is_valid_group(self):\n",
        "        if len(self.collection)<3:\n",
        "            return False\n",
        "        card_counts = {}\n",
        "        for card in self.collection:\n",
        "            key = (card.color, card.number)\n",
        "            card_counts[key] = card_counts.get(key, 0) + 1\n",
        "\n",
        "        # Check if it's a sequence of same color\n",
        "        colors = {card.color for card in self.collection}\n",
        "        numbers = sorted(card.number for card in self.collection)\n",
        ""
      ],
      "metadata": {
        "id": "NygNXZaUkhsP"
      },
      "execution_count": null,
      "outputs": []
    },
    {
      "cell_type": "code",
      "source": [
        "card_groups = {}\n",
        "        for card in self.collection:\n",
        "            key = (card.number, card.colour)\n",
        "            if key not in card_groups:\n",
        "                card_groups[key] = []\n",
        "            card_groups[key].append(card)\n",
        "\n",
        "        for group in card_groups.values():\n",
        "            if len(group)>=3:\n",
        "                if len()"
      ],
      "metadata": {
        "colab": {
          "base_uri": "https://localhost:8080/"
        },
        "id": "GADwoo3Hkkwb",
        "outputId": "fd33d810-715c-4e29-f0ae-6675e2c2caed"
      },
      "execution_count": null,
      "outputs": [
        {
          "output_type": "execute_result",
          "data": {
            "text/plain": [
              "3"
            ]
          },
          "metadata": {},
          "execution_count": 4
        }
      ]
    },
    {
      "cell_type": "code",
      "source": [],
      "metadata": {
        "id": "n01ecau-lKg4"
      },
      "execution_count": null,
      "outputs": []
    }
  ]
}