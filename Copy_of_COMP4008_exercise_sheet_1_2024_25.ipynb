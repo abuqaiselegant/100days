{
  "nbformat": 4,
  "nbformat_minor": 0,
  "metadata": {
    "colab": {
      "provenance": [],
      "include_colab_link": true
    },
    "kernelspec": {
      "name": "python3",
      "display_name": "Python 3"
    },
    "language_info": {
      "name": "python"
    }
  },
  "cells": [
    {
      "cell_type": "markdown",
      "metadata": {
        "id": "view-in-github",
        "colab_type": "text"
      },
      "source": [
        "<a href=\"https://colab.research.google.com/github/abuqaiselegant/100days/blob/main/Copy_of_COMP4008_exercise_sheet_1_2024_25.ipynb\" target=\"_parent\"><img src=\"https://colab.research.google.com/assets/colab-badge.svg\" alt=\"Open In Colab\"/></a>"
      ]
    },
    {
      "cell_type": "markdown",
      "source": [
        "**Week 1 Part 1: Preliminary Exercises on Lists and Variables**\n",
        "\n",
        "Here are some introductory exercises on lists and variables.\n",
        "\n",
        "To complete each task, you should fill in the code block that begin with a # symbol, replacing the text that is there with your code. Once you have completed the code, either click the \"play\" symbol to the left of the block, or press shift-return on your keyboard. If there is output from that piece of code, it will then display in a new block underneath the code.\n",
        "\n",
        "The tasks use similar ideas to those demonstrated at the beginning of the class, so think back to that if you need ideas and inspiration. The code and slides from that introductory part of the class are available on Moodle."
      ],
      "metadata": {
        "id": "8DiBzdxqn0Sz"
      }
    },
    {
      "cell_type": "markdown",
      "source": [
        "The following block creates a list of three names"
      ],
      "metadata": {
        "id": "YzOdyWc1n2jE"
      }
    },
    {
      "cell_type": "code",
      "execution_count": null,
      "metadata": {
        "id": "YnzsZIc1nJMn"
      },
      "outputs": [],
      "source": [
        "listOfNames = [\"Kermit the Frog\", \"Fozzie Bear\", \"Beaker\", \"Animal\"]"
      ]
    },
    {
      "cell_type": "markdown",
      "source": [
        "In the next block, write two lines of code, to append the name \"Miss Piggy\" to the list, then to display the list"
      ],
      "metadata": {
        "id": "Me2g1h5eoJAt"
      }
    },
    {
      "cell_type": "code",
      "source": [
        "# add your code here\n",
        "listOfNames.append(\"Miss Piggy\")\n",
        "listOfNames"
      ],
      "metadata": {
        "id": "IqnyQ68woS1U",
        "colab": {
          "base_uri": "https://localhost:8080/"
        },
        "outputId": "deff37ac-cc94-4388-c872-0e3d28cf1c60"
      },
      "execution_count": null,
      "outputs": [
        {
          "output_type": "execute_result",
          "data": {
            "text/plain": [
              "['Kermit the Frog', 'Fozzie Bear', 'Beaker', 'Animal', 'Miss Piggy']"
            ]
          },
          "metadata": {},
          "execution_count": 2
        }
      ]
    },
    {
      "cell_type": "markdown",
      "source": [
        "The next block contains a definition, *addStudent*, of a function that takes the name of a list, a piece of text containing the student's name, and a number that is their mark in their Maths module, and adds a new item to the list containing those three pieces of information. You do not have to do anything to the code in the next block."
      ],
      "metadata": {
        "id": "N3UxbZphqfZ7"
      }
    },
    {
      "cell_type": "code",
      "source": [
        "def addStudent(listOfStudents, studentName, maths):\n",
        "  listOfStudents.append([studentName,maths])"
      ],
      "metadata": {
        "id": "UVKVktjPqeMD"
      },
      "execution_count": null,
      "outputs": []
    },
    {
      "cell_type": "markdown",
      "source": [
        "In the next block, make a copy of *addStudent* from above and modify it so that in addition to the student's name and maths mark, it also records the student's hall of residence (a string of text), and numbers that represent the student's marks in English and in Programming."
      ],
      "metadata": {
        "id": "gz2Hora_vY_2"
      }
    },
    {
      "cell_type": "code",
      "source": [
        "# replace this comment with a copy of addStudent and modify it\n",
        "def addStudent(listOfStudents, studentName, residence, maths, English, Programming):\n",
        "  listOfStudents.append([studentName,residence, maths,English, Programming])"
      ],
      "metadata": {
        "id": "JqorqcLwqeJk"
      },
      "execution_count": null,
      "outputs": []
    },
    {
      "cell_type": "markdown",
      "source": [
        "In the next block, write five lines of code that (1) creates an empty list called *studentRecords* and (2) uses the newly defined *addStudent* function to add the following students to *studentRecords*.\n",
        "\n",
        "| Name              | Residence          | Maths | English | Programming |\n",
        "|-------------------|--------------------|-------|---------|-------------|\n",
        "| Kermit the Frog   | Sherwood Hall      | 65    | 78      | 52          |\n",
        "| Fozzie Bear       | Newark Hall        | 48    | 45      | 42          |\n",
        "| Animal            | Sherwood Hall      | 35    | 68      | 48          |\n",
        "| Miss Piggy        | Melton Hall        | 78    | 75      | 85          |"
      ],
      "metadata": {
        "id": "dtZQVLwvv1sK"
      }
    },
    {
      "cell_type": "code",
      "source": [
        "# replace this comment with your code\n",
        "studentRecords=[]\n",
        "addStudent(studentRecords, \"Kermit the Frog\",\"Sherwood Hall\",65,78,52)\n",
        "addStudent(studentRecords, \"Frozzie Bear\",\"Newark Hall\",48,45,42)\n",
        "addStudent(studentRecords, \"Animal\",\"Sherwood Hall\",35,68,48)\n",
        "addStudent(studentRecords, \"Miss Piggy\",\"Melton Hall\",78,75,85)"
      ],
      "metadata": {
        "id": "LSWz9IKNqeG8"
      },
      "execution_count": null,
      "outputs": []
    },
    {
      "cell_type": "markdown",
      "source": [
        "In the next block, write a line of code that lists just the students who have a mark of 50 or over in Maths"
      ],
      "metadata": {
        "id": "N_GnyJ04xgSJ"
      }
    },
    {
      "cell_type": "code",
      "source": [
        "# replace this comment with your code\n",
        "[s for s in studentRecords if s[2]>=50]"
      ],
      "metadata": {
        "id": "omQnILlhqeEd",
        "colab": {
          "base_uri": "https://localhost:8080/"
        },
        "outputId": "707db88b-0e7b-46f9-966e-e635c76e6781"
      },
      "execution_count": null,
      "outputs": [
        {
          "output_type": "execute_result",
          "data": {
            "text/plain": [
              "[['Kermit the Frog', 'Sherwood Hall', 65, 78, 52],\n",
              " ['Miss Piggy', 'Melton Hall', 78, 75, 85]]"
            ]
          },
          "metadata": {},
          "execution_count": 21
        }
      ]
    },
    {
      "cell_type": "markdown",
      "source": [
        "In the next block, write a line of code that lists all the students who have a mark under 50 in all of Maths, English and Programming."
      ],
      "metadata": {
        "id": "EIfm8_vryfkg"
      }
    },
    {
      "cell_type": "code",
      "source": [
        "# replace this comment with your code\n",
        "[s for s in studentRecords if s[2]<50 and s[3]<50 and s[4]<50]"
      ],
      "metadata": {
        "id": "BufkinZzqeB_",
        "colab": {
          "base_uri": "https://localhost:8080/"
        },
        "outputId": "64f6a5ac-ea94-49a1-83ae-6767de03019c"
      },
      "execution_count": null,
      "outputs": [
        {
          "output_type": "execute_result",
          "data": {
            "text/plain": [
              "[['Frozzie Bear', 'Newark Hall', 48, 45, 42]]"
            ]
          },
          "metadata": {},
          "execution_count": 23
        }
      ]
    },
    {
      "cell_type": "markdown",
      "source": [
        "**Week 1 Part 2: More Exercises about Decision Making**\n",
        "\n",
        "Here are some more tasks that use the \"if\" statement to enable the computer to make decisions."
      ],
      "metadata": {
        "id": "8od5lsgXHpI_"
      }
    },
    {
      "cell_type": "markdown",
      "source": [
        "The code in the next block prints \"winner\" if the score is greater than 50. Modify it so that it prints \"winner\" if the score is greater than 60."
      ],
      "metadata": {
        "id": "K35I0OBTIB85"
      }
    },
    {
      "cell_type": "code",
      "source": [
        "def winner(score):\n",
        "  if score>50:\n",
        "    print(\"winner\")\n",
        "  else:\n",
        "    print(\"loser\")"
      ],
      "metadata": {
        "id": "v1hBgqrQIDZy"
      },
      "execution_count": null,
      "outputs": []
    },
    {
      "cell_type": "markdown",
      "source": [
        "The next block uses the *winner* function with various different inputs so that you can check if it is working correctly. There is no need to modify the next block."
      ],
      "metadata": {
        "id": "fNsPw_l5IO13"
      }
    },
    {
      "cell_type": "code",
      "source": [
        "print(\"should say loser\"); winner(20);\n",
        "print(\"should say loser\"); winner(52);\n",
        "print(\"should say loser\"); winner(50);\n",
        "print(\"should say winner\"); winner(62);\n",
        "print(\"should say loser\"); winner(60)"
      ],
      "metadata": {
        "id": "mjIeIToLISuz",
        "colab": {
          "base_uri": "https://localhost:8080/"
        },
        "outputId": "cdb12ae3-3e0d-43a9-9c8d-2d95ea15667b"
      },
      "execution_count": null,
      "outputs": [
        {
          "output_type": "stream",
          "name": "stdout",
          "text": [
            "should say loser\n",
            "loser\n",
            "should say loser\n",
            "winner\n",
            "should say loser\n",
            "loser\n",
            "should say winner\n",
            "winner\n",
            "should say loser\n",
            "winner\n"
          ]
        }
      ]
    },
    {
      "cell_type": "markdown",
      "source": [
        "In the next block, define a function *passed* that takes in a student's mark, and prints \"pass\" if the mark is greater than or equal to 50, otherwise prints \"fail\"."
      ],
      "metadata": {
        "id": "UsmEGLXYIm6Q"
      }
    },
    {
      "cell_type": "code",
      "source": [
        "# insert your code here\n",
        "def passed(Marks):\n",
        "  if Marks>=50:\n",
        "    print(\"pass\")\n",
        "  else:\n",
        "    print(\"fail\")"
      ],
      "metadata": {
        "id": "1va9dg87Ipi1"
      },
      "execution_count": null,
      "outputs": []
    },
    {
      "cell_type": "markdown",
      "source": [
        "In the next block, write a few lines that use the function passed with some different inputs (e.g. 43, 67, 50) and check that you get the expected outputs"
      ],
      "metadata": {
        "id": "lDKZztXVIsPU"
      }
    },
    {
      "cell_type": "code",
      "source": [
        "# insert your code here\n",
        "passed(50)\n",
        "passed(89)\n",
        "passed(34)"
      ],
      "metadata": {
        "id": "pkKybZq3Ivw_",
        "colab": {
          "base_uri": "https://localhost:8080/"
        },
        "outputId": "7c4097df-b5dd-44d7-bd03-a46e6782e15c"
      },
      "execution_count": null,
      "outputs": [
        {
          "output_type": "stream",
          "name": "stdout",
          "text": [
            "pass\n",
            "pass\n",
            "fail\n"
          ]
        }
      ]
    },
    {
      "cell_type": "markdown",
      "source": [
        "Write a function passedBoth that inputs two marks, and prints \"pass\" if both marks are greater than or equal to 50, otherwise prints \"fail\". The most concise way to do involves using the word and (see the summary slides for details of how this works)."
      ],
      "metadata": {
        "id": "pu_L_eawIyKd"
      }
    },
    {
      "cell_type": "code",
      "source": [
        "# insert your code here\n",
        "def passedBoth(marks1, marks2):\n",
        "  if marks1 and marks2 >=50:\n",
        "    print(\"pass\")\n",
        "  else:\n",
        "    print(\"fail\")"
      ],
      "metadata": {
        "id": "yLeaAJxZIxuJ"
      },
      "execution_count": null,
      "outputs": []
    },
    {
      "cell_type": "markdown",
      "source": [
        "In the next block, write some examples of using that function with different inputs to check whether it works."
      ],
      "metadata": {
        "id": "fOFE2O7VI47a"
      }
    },
    {
      "cell_type": "code",
      "source": [
        "# insert your code here\n",
        "passedBoth(78,30)\n",
        "passedBoth(98,99)\n",
        "passedBoth(30,2)\n"
      ],
      "metadata": {
        "id": "MbAE8TcRI59H",
        "colab": {
          "base_uri": "https://localhost:8080/"
        },
        "outputId": "17b6638d-12c5-4470-f540-2c344893d755"
      },
      "execution_count": null,
      "outputs": [
        {
          "output_type": "stream",
          "name": "stdout",
          "text": [
            "fail\n",
            "pass\n",
            "fail\n"
          ]
        }
      ]
    },
    {
      "cell_type": "markdown",
      "source": [
        "The next block prints the text \"University Park\", \"Jubilee\" or \"Sutton Bonington\" based on the name of the student residence given as input. Note the use of elif (short for \"else if\") to create three different conditions. Modify the code so that it also checks for the word \"Nottingham Two\" and replies with \"Jubilee\". Modify it so that it says \"not known\" if hallName doesn't match any of the names."
      ],
      "metadata": {
        "id": "dSvlJuX3I7rv"
      }
    },
    {
      "cell_type": "code",
      "source": [
        "def findHallLocation(hallName):\n",
        "  if hallName==\"Sherwood\" or hallName==\"Melton\" or hallName == \"Nottingham Two\":\n",
        "    print(\"Jubilee\")\n",
        "  elif hallName==\"Nightingale\" or hallName==\"Lenton\" or hallName==\"Ancaster\":\n",
        "    print(\"University Park\")\n",
        "  elif hallName==\"Bonington Village\":\n",
        "    print(\"Sutton Bonington\")\n",
        "  else:\n",
        "    print(\"not known\")"
      ],
      "metadata": {
        "id": "gJ79-Pw7I_SO"
      },
      "execution_count": null,
      "outputs": []
    },
    {
      "cell_type": "markdown",
      "source": [
        "In the next block, write some examples of using that function with different inputs to check whether it works."
      ],
      "metadata": {
        "id": "ylAbRBh7JB5-"
      }
    },
    {
      "cell_type": "code",
      "source": [
        "# insert your code here\n",
        "findHallLocation(\"Nottingham Two\")\n",
        "findHallLocation(\"radford\")"
      ],
      "metadata": {
        "id": "bzbSk9yeJFRh",
        "colab": {
          "base_uri": "https://localhost:8080/"
        },
        "outputId": "8940c551-283a-4f89-d42c-9506cac2179f"
      },
      "execution_count": null,
      "outputs": [
        {
          "output_type": "stream",
          "name": "stdout",
          "text": [
            "Jubilee\n",
            "not known\n"
          ]
        }
      ]
    },
    {
      "cell_type": "markdown",
      "source": [
        "A person is eligible for an main award if they get a score of over 80. Otherwise, if they have a score of over 70 and are under 18, they are eligible for a young person's award. Otherwise, they get no award. In the next block, define a function passed that inputs the score, and prints the correct award. Hint: you may find the elif: command useful - see the reference material to see how this works."
      ],
      "metadata": {
        "id": "OANVIFAUJFFM"
      }
    },
    {
      "cell_type": "code",
      "source": [
        "# insert your code here\n",
        "def passed(score,age):\n",
        "  if score>80:\n",
        "    print(\"main award\")\n",
        "  elif score>70 and age< 18:\n",
        "    print(\"young person's award\")\n",
        "  else:\n",
        "    print(\"no award\")"
      ],
      "metadata": {
        "id": "EPU05u9LJMZZ"
      },
      "execution_count": null,
      "outputs": []
    },
    {
      "cell_type": "markdown",
      "source": [
        "In the next block, write some examples of using that function with different inputs to check whether it works."
      ],
      "metadata": {
        "id": "TNKPzljPJETw"
      }
    },
    {
      "cell_type": "code",
      "source": [
        "# insert your code here\n",
        "passed(78,9)"
      ],
      "metadata": {
        "id": "dqLFTITcJQmZ",
        "colab": {
          "base_uri": "https://localhost:8080/"
        },
        "outputId": "212eda25-e3a7-48b8-e2e5-c274df8f307a"
      },
      "execution_count": null,
      "outputs": [
        {
          "output_type": "stream",
          "name": "stdout",
          "text": [
            "young person's award\n"
          ]
        }
      ]
    },
    {
      "cell_type": "markdown",
      "source": [
        "In the next block, write a definition *NPCDecision* that takes in three pieces of information: numbers called *distance* and *health*, and a string of text called *threat*.\n",
        "\n",
        "* if distance is close (under 20) and health is good (50 or over) or the threat is severe, the function outputs (using the *return* statement) the text \"attack\"\n",
        "* of distance is fairly close (under 30) and health is low (under 20), the function outputs (using the *return* statement) the text \"retreat\"\n",
        "* otherwise, the function outputs (using the *return* statement) the text \"stay put\"\n",
        "\n",
        "You will need to use a combination of *and* and *or* in your definition."
      ],
      "metadata": {
        "id": "_8L0wdXzJSmu"
      }
    },
    {
      "cell_type": "code",
      "source": [
        "# insert your code here\n",
        "def NPCDecision(distance, health, threat):\n",
        "   if distance<20 and health >=50 or threat == \"severe\":\n",
        "    return \"attack\"\n",
        "   elif distance<30 and health <20 :\n",
        "    return \"retreat\"\n",
        "   else:\n",
        "    return \"stayput\""
      ],
      "metadata": {
        "id": "IrR6y087JV-X"
      },
      "execution_count": null,
      "outputs": []
    },
    {
      "cell_type": "markdown",
      "source": [
        "In the next block, write some examples of using that function with different inputs to check whether it works. You will need to use *print* to access the output produced by the *return*: e.g. print(NPCDecision(10,80,\"moderate\"))"
      ],
      "metadata": {
        "id": "eE49NJCjJbeg"
      }
    },
    {
      "cell_type": "code",
      "source": [
        "# insert your code here\n",
        "print(NPCDecision(10,30,\"normal\"))"
      ],
      "metadata": {
        "id": "huRx9SM_JbFa",
        "colab": {
          "base_uri": "https://localhost:8080/"
        },
        "outputId": "6dcf1a19-d5f6-4c33-c9ad-dfc6b363e4f1"
      },
      "execution_count": null,
      "outputs": [
        {
          "output_type": "stream",
          "name": "stdout",
          "text": [
            "stayput\n"
          ]
        }
      ]
    },
    {
      "cell_type": "markdown",
      "source": [
        "Write a definition *permittedToEnter* that takes a number that is a person's age, and a text string *status*. It prints \"entry permitted\" if the person is over 18, and their *status* is not banned. You will need to use the Python keyword *not* or the *!=* (not equal to) symbol."
      ],
      "metadata": {
        "id": "XzxuZhtiJiM0"
      }
    },
    {
      "cell_type": "code",
      "source": [
        "# insert your code here\n",
        "def permittedToEnter(age, status):\n",
        "  if(age>18 and status != \"banned\"):\n",
        "    print(\"entry permitted\")\n"
      ],
      "metadata": {
        "id": "wPIyVC6TJh_U"
      },
      "execution_count": null,
      "outputs": []
    },
    {
      "cell_type": "markdown",
      "source": [
        "(more complicated) For example, you must be under 21 to be eligible to get a youth prize (a certificate or medal) in the sports competition. If you win 10 or more games, you get a medal, otherwise you get a certificate. Write a definition that decides who gets one of these youth awards, and some code to test it."
      ],
      "metadata": {
        "id": "6X3hcJC6Jltn"
      }
    },
    {
      "cell_type": "code",
      "source": [
        "# insert your code here\n",
        "def award(age,win):\n",
        "  if(age > 21):\n",
        "    print(\"not eligible\")\n",
        "  else:\n",
        "    if win>=10:\n",
        "      print(\"you won a medal\")\n",
        "    else :\n",
        "      print(\"you got a certificate\")"
      ],
      "metadata": {
        "id": "XWSgPs1iJhWg"
      },
      "execution_count": null,
      "outputs": []
    },
    {
      "cell_type": "code",
      "source": [
        "award(18,6)"
      ],
      "metadata": {
        "colab": {
          "base_uri": "https://localhost:8080/"
        },
        "id": "5T8TrJDRmLdD",
        "outputId": "1a5d1c49-61cb-43ec-921d-3bce7d5d1c75"
      },
      "execution_count": null,
      "outputs": [
        {
          "output_type": "stream",
          "name": "stdout",
          "text": [
            "you got a certificate\n"
          ]
        }
      ]
    },
    {
      "cell_type": "markdown",
      "source": [
        "**Week 1 Part 3: Additional Tasks**\n",
        "\n",
        "If you have completed the above tasks, here are some additional tasks for you to do, based on the exercises in Part 1 above, in order to extend your knowledge and practice more.\n"
      ],
      "metadata": {
        "id": "7Laks9Yr2Rgd"
      }
    },
    {
      "cell_type": "markdown",
      "source": [
        "In the next block, write a line of code that lists all the students who have a mark under 50 in one or more of Maths, English and Programming. You will need to use the word *or* where you used *and* in the previous block."
      ],
      "metadata": {
        "id": "rU8mdc-6zRw7"
      }
    },
    {
      "cell_type": "code",
      "source": [
        "# replace this comment with your code"
      ],
      "metadata": {
        "id": "StrvSFwQqd_A"
      },
      "execution_count": null,
      "outputs": []
    },
    {
      "cell_type": "markdown",
      "source": [
        "In the next block, write a new version of *addStudent* that checks (1) if any of the marks are below 0 or over 100, and (2) that the residence is one of \"Sherwood Hall\", \"Newark Hall\", or \"Melton Hall\". If any of these conditions are not satisfied, print an error message and don't add the student to the list."
      ],
      "metadata": {
        "id": "8Lq0-vcDzotZ"
      }
    },
    {
      "cell_type": "code",
      "source": [
        "# replace this comment with a copy of addStudent and modify it"
      ],
      "metadata": {
        "id": "3CFcrkJ7qd6m"
      },
      "execution_count": null,
      "outputs": []
    },
    {
      "cell_type": "markdown",
      "source": [
        "In the next block, write code that uses *addStudent* to create a number of examples that tests whether the new version of *addStudent* is working - that is, you should provide a variety of examples, including examples that satisfy the checks, ones with marks below 0 and/or above 100, ones with multiple marks below/above 0/100, ones with a different/mis-spelled residence name, ones where students have scored exactly 0 or 100 (these are called \"edge cases\")."
      ],
      "metadata": {
        "id": "uTJ3e3To4cjR"
      }
    },
    {
      "cell_type": "code",
      "source": [
        "# replace this comment with your code"
      ],
      "metadata": {
        "id": "xQnejhkgQUJ3"
      },
      "execution_count": null,
      "outputs": []
    },
    {
      "cell_type": "markdown",
      "source": [
        "(difficult) In the next block, write code that displays each student and the average of their marks across the three modules"
      ],
      "metadata": {
        "id": "85bvw9MvQSvJ"
      }
    },
    {
      "cell_type": "code",
      "source": [
        "# replace this comment with your code"
      ],
      "metadata": {
        "id": "n1IrwYTjQVZd"
      },
      "execution_count": null,
      "outputs": []
    },
    {
      "cell_type": "markdown",
      "source": [
        "(complicated and long) rewrite *addStudent* so that it works with students taking an arbitrary number of modules, not just the three. Also rewrite the averaging method from the previous block so that it works with this version."
      ],
      "metadata": {
        "id": "GF0oaXSjR3gV"
      }
    },
    {
      "cell_type": "code",
      "source": [],
      "metadata": {
        "id": "Qq0cXeN8SP4a"
      },
      "execution_count": null,
      "outputs": []
    }
  ]
}